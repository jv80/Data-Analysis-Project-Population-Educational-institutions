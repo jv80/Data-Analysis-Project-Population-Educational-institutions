{
 "cells": [
  {
   "cell_type": "markdown",
   "metadata": {
    "raw_mimetype": "text/markdown"
   },
   "source": [
    "# Processing Female Population\n",
    "\n"
   ]
  },
  {
   "cell_type": "markdown",
   "metadata": {},
   "source": [
    "## Reading data input"
   ]
  },
  {
   "cell_type": "markdown",
   "metadata": {},
   "source": [
    "Reading ouput of the data generate by ProcessingCensus2016.ipynb and creating a dataFrame **df**."
   ]
  },
  {
   "cell_type": "code",
   "execution_count": 23,
   "metadata": {},
   "outputs": [],
   "source": [
    "import numpy as np\n",
    "import pandas as pd\n",
    "import matplotlib.pyplot as plt\n",
    "import random\n",
    "df = pd.read_csv('data/CensusLocalAreaProfiles2016_cleaned.csv', encoding='ISO-8859-1')\n"
   ]
  },
  {
   "cell_type": "markdown",
   "metadata": {},
   "source": [
    "---"
   ]
  },
  {
   "cell_type": "markdown",
   "metadata": {},
   "source": [
    "## Selecting data of interest and creating a new dataFrame **df1** (female population)"
   ]
  },
  {
   "cell_type": "markdown",
   "metadata": {},
   "source": [
    "Selecting rows 55 to 59 and columns 0 to 24 (female population between 5 years old and 19 years old data set) by calling iloc function in the data frame created. "
   ]
  },
  {
   "cell_type": "code",
   "execution_count": 24,
   "metadata": {},
   "outputs": [],
   "source": [
    "df1 = df.iloc[55:59, 0:24]"
   ]
  },
  {
   "cell_type": "markdown",
   "metadata": {},
   "source": [
    "---"
   ]
  },
  {
   "cell_type": "markdown",
   "metadata": {},
   "source": [
    "## Checking the dimensions of the new dataFrame **df1**"
   ]
  },
  {
   "cell_type": "code",
   "execution_count": 25,
   "metadata": {},
   "outputs": [
    {
     "data": {
      "text/plain": [
       "(4, 24)"
      ]
     },
     "execution_count": 25,
     "metadata": {},
     "output_type": "execute_result"
    }
   ],
   "source": [
    "df1.shape"
   ]
  },
  {
   "cell_type": "markdown",
   "metadata": {},
   "source": [
    "**df1** has 24 rows and 26 columns."
   ]
  },
  {
   "cell_type": "markdown",
   "metadata": {},
   "source": [
    "---"
   ]
  },
  {
   "cell_type": "markdown",
   "metadata": {},
   "source": [
    "## Checking the apperance of the new dataFrame created"
   ]
  },
  {
   "cell_type": "code",
   "execution_count": 26,
   "metadata": {},
   "outputs": [
    {
     "data": {
      "text/html": [
       "<div>\n",
       "<style scoped>\n",
       "    .dataframe tbody tr th:only-of-type {\n",
       "        vertical-align: middle;\n",
       "    }\n",
       "\n",
       "    .dataframe tbody tr th {\n",
       "        vertical-align: top;\n",
       "    }\n",
       "\n",
       "    .dataframe thead th {\n",
       "        text-align: right;\n",
       "    }\n",
       "</style>\n",
       "<table border=\"1\" class=\"dataframe\">\n",
       "  <thead>\n",
       "    <tr style=\"text-align: right;\">\n",
       "      <th></th>\n",
       "      <th>ID</th>\n",
       "      <th>Variable</th>\n",
       "      <th>Arbutus-Ridge</th>\n",
       "      <th>Downtown</th>\n",
       "      <th>Dunbar-Southlands</th>\n",
       "      <th>Fairview</th>\n",
       "      <th>Grandview-Woodland</th>\n",
       "      <th>Hastings-Sunrise</th>\n",
       "      <th>Kensington-Cedar Cottage</th>\n",
       "      <th>Kerrisdale</th>\n",
       "      <th>...</th>\n",
       "      <th>Oakridge</th>\n",
       "      <th>Renfrew-Collingwood</th>\n",
       "      <th>Riley Park</th>\n",
       "      <th>Shaughnessy</th>\n",
       "      <th>South Cambie</th>\n",
       "      <th>Strathcona</th>\n",
       "      <th>Sunset</th>\n",
       "      <th>Victoria-Fraserview</th>\n",
       "      <th>West End</th>\n",
       "      <th>West Point Grey</th>\n",
       "    </tr>\n",
       "  </thead>\n",
       "  <tbody>\n",
       "    <tr>\n",
       "      <td>55</td>\n",
       "      <td>56</td>\n",
       "      <td>5 to 9 years</td>\n",
       "      <td>340</td>\n",
       "      <td>530</td>\n",
       "      <td>580</td>\n",
       "      <td>350</td>\n",
       "      <td>495</td>\n",
       "      <td>780</td>\n",
       "      <td>1150</td>\n",
       "      <td>315</td>\n",
       "      <td>...</td>\n",
       "      <td>230</td>\n",
       "      <td>1035</td>\n",
       "      <td>570</td>\n",
       "      <td>210</td>\n",
       "      <td>170</td>\n",
       "      <td>190</td>\n",
       "      <td>860</td>\n",
       "      <td>565</td>\n",
       "      <td>275</td>\n",
       "      <td>330</td>\n",
       "    </tr>\n",
       "    <tr>\n",
       "      <td>56</td>\n",
       "      <td>57</td>\n",
       "      <td>10 to 14 years</td>\n",
       "      <td>400</td>\n",
       "      <td>390</td>\n",
       "      <td>810</td>\n",
       "      <td>295</td>\n",
       "      <td>400</td>\n",
       "      <td>745</td>\n",
       "      <td>1060</td>\n",
       "      <td>410</td>\n",
       "      <td>...</td>\n",
       "      <td>275</td>\n",
       "      <td>1015</td>\n",
       "      <td>515</td>\n",
       "      <td>250</td>\n",
       "      <td>175</td>\n",
       "      <td>175</td>\n",
       "      <td>910</td>\n",
       "      <td>650</td>\n",
       "      <td>200</td>\n",
       "      <td>410</td>\n",
       "    </tr>\n",
       "    <tr>\n",
       "      <td>57</td>\n",
       "      <td>58</td>\n",
       "      <td>15 to 64 years</td>\n",
       "      <td>5350</td>\n",
       "      <td>23805</td>\n",
       "      <td>7425</td>\n",
       "      <td>13710</td>\n",
       "      <td>11550</td>\n",
       "      <td>12125</td>\n",
       "      <td>18130</td>\n",
       "      <td>5080</td>\n",
       "      <td>...</td>\n",
       "      <td>4625</td>\n",
       "      <td>18955</td>\n",
       "      <td>8330</td>\n",
       "      <td>2930</td>\n",
       "      <td>2830</td>\n",
       "      <td>3835</td>\n",
       "      <td>12970</td>\n",
       "      <td>10975</td>\n",
       "      <td>17960</td>\n",
       "      <td>4600</td>\n",
       "    </tr>\n",
       "    <tr>\n",
       "      <td>58</td>\n",
       "      <td>59</td>\n",
       "      <td>15 to 19 years</td>\n",
       "      <td>580</td>\n",
       "      <td>580</td>\n",
       "      <td>870</td>\n",
       "      <td>355</td>\n",
       "      <td>400</td>\n",
       "      <td>890</td>\n",
       "      <td>1290</td>\n",
       "      <td>520</td>\n",
       "      <td>...</td>\n",
       "      <td>420</td>\n",
       "      <td>1355</td>\n",
       "      <td>525</td>\n",
       "      <td>285</td>\n",
       "      <td>190</td>\n",
       "      <td>175</td>\n",
       "      <td>1270</td>\n",
       "      <td>940</td>\n",
       "      <td>325</td>\n",
       "      <td>450</td>\n",
       "    </tr>\n",
       "  </tbody>\n",
       "</table>\n",
       "<p>4 rows × 24 columns</p>\n",
       "</div>"
      ],
      "text/plain": [
       "    ID              Variable Arbutus-Ridge Downtown Dunbar-Southlands  \\\n",
       "55  56          5 to 9 years           340      530               580   \n",
       "56  57        10 to 14 years           400      390               810   \n",
       "57  58        15 to 64 years          5350    23805              7425   \n",
       "58  59        15 to 19 years           580      580               870   \n",
       "\n",
       "   Fairview Grandview-Woodland Hastings-Sunrise Kensington-Cedar Cottage  \\\n",
       "55      350                495              780                     1150   \n",
       "56      295                400              745                     1060   \n",
       "57    13710              11550            12125                    18130   \n",
       "58      355                400              890                     1290   \n",
       "\n",
       "   Kerrisdale  ... Oakridge Renfrew-Collingwood Riley Park Shaughnessy  \\\n",
       "55        315  ...      230                1035        570         210   \n",
       "56        410  ...      275                1015        515         250   \n",
       "57       5080  ...     4625               18955       8330        2930   \n",
       "58        520  ...      420                1355        525         285   \n",
       "\n",
       "   South Cambie Strathcona Sunset Victoria-Fraserview West End West Point Grey  \n",
       "55          170        190    860                 565      275             330  \n",
       "56          175        175    910                 650      200             410  \n",
       "57         2830       3835  12970               10975    17960            4600  \n",
       "58          190        175   1270                 940      325             450  \n",
       "\n",
       "[4 rows x 24 columns]"
      ]
     },
     "execution_count": 26,
     "metadata": {},
     "output_type": "execute_result"
    }
   ],
   "source": [
    "df1.head(26)"
   ]
  },
  {
   "cell_type": "markdown",
   "metadata": {},
   "source": [
    "The row with **Variable** \"15 to 64 years\" shows information repeated. This row should be deleted."
   ]
  },
  {
   "cell_type": "markdown",
   "metadata": {},
   "source": [
    "---"
   ]
  },
  {
   "cell_type": "markdown",
   "metadata": {},
   "source": [
    "## Creating a new dataFrame **df2** without rows and columns not needed."
   ]
  },
  {
   "cell_type": "markdown",
   "metadata": {},
   "source": [
    "Deleting row with **Variable** \"15 to 64 years\" and column ID."
   ]
  },
  {
   "cell_type": "code",
   "execution_count": 27,
   "metadata": {},
   "outputs": [],
   "source": [
    "df2 = df1.drop(index=57, columns='ID')"
   ]
  },
  {
   "cell_type": "code",
   "execution_count": 28,
   "metadata": {},
   "outputs": [
    {
     "data": {
      "text/html": [
       "<div>\n",
       "<style scoped>\n",
       "    .dataframe tbody tr th:only-of-type {\n",
       "        vertical-align: middle;\n",
       "    }\n",
       "\n",
       "    .dataframe tbody tr th {\n",
       "        vertical-align: top;\n",
       "    }\n",
       "\n",
       "    .dataframe thead th {\n",
       "        text-align: right;\n",
       "    }\n",
       "</style>\n",
       "<table border=\"1\" class=\"dataframe\">\n",
       "  <thead>\n",
       "    <tr style=\"text-align: right;\">\n",
       "      <th></th>\n",
       "      <th>Variable</th>\n",
       "      <th>Arbutus-Ridge</th>\n",
       "      <th>Downtown</th>\n",
       "      <th>Dunbar-Southlands</th>\n",
       "      <th>Fairview</th>\n",
       "      <th>Grandview-Woodland</th>\n",
       "      <th>Hastings-Sunrise</th>\n",
       "      <th>Kensington-Cedar Cottage</th>\n",
       "      <th>Kerrisdale</th>\n",
       "      <th>Killarney</th>\n",
       "      <th>...</th>\n",
       "      <th>Oakridge</th>\n",
       "      <th>Renfrew-Collingwood</th>\n",
       "      <th>Riley Park</th>\n",
       "      <th>Shaughnessy</th>\n",
       "      <th>South Cambie</th>\n",
       "      <th>Strathcona</th>\n",
       "      <th>Sunset</th>\n",
       "      <th>Victoria-Fraserview</th>\n",
       "      <th>West End</th>\n",
       "      <th>West Point Grey</th>\n",
       "    </tr>\n",
       "  </thead>\n",
       "  <tbody>\n",
       "    <tr>\n",
       "      <td>55</td>\n",
       "      <td>5 to 9 years</td>\n",
       "      <td>340</td>\n",
       "      <td>530</td>\n",
       "      <td>580</td>\n",
       "      <td>350</td>\n",
       "      <td>495</td>\n",
       "      <td>780</td>\n",
       "      <td>1150</td>\n",
       "      <td>315</td>\n",
       "      <td>660</td>\n",
       "      <td>...</td>\n",
       "      <td>230</td>\n",
       "      <td>1035</td>\n",
       "      <td>570</td>\n",
       "      <td>210</td>\n",
       "      <td>170</td>\n",
       "      <td>190</td>\n",
       "      <td>860</td>\n",
       "      <td>565</td>\n",
       "      <td>275</td>\n",
       "      <td>330</td>\n",
       "    </tr>\n",
       "    <tr>\n",
       "      <td>56</td>\n",
       "      <td>10 to 14 years</td>\n",
       "      <td>400</td>\n",
       "      <td>390</td>\n",
       "      <td>810</td>\n",
       "      <td>295</td>\n",
       "      <td>400</td>\n",
       "      <td>745</td>\n",
       "      <td>1060</td>\n",
       "      <td>410</td>\n",
       "      <td>715</td>\n",
       "      <td>...</td>\n",
       "      <td>275</td>\n",
       "      <td>1015</td>\n",
       "      <td>515</td>\n",
       "      <td>250</td>\n",
       "      <td>175</td>\n",
       "      <td>175</td>\n",
       "      <td>910</td>\n",
       "      <td>650</td>\n",
       "      <td>200</td>\n",
       "      <td>410</td>\n",
       "    </tr>\n",
       "    <tr>\n",
       "      <td>58</td>\n",
       "      <td>15 to 19 years</td>\n",
       "      <td>580</td>\n",
       "      <td>580</td>\n",
       "      <td>870</td>\n",
       "      <td>355</td>\n",
       "      <td>400</td>\n",
       "      <td>890</td>\n",
       "      <td>1290</td>\n",
       "      <td>520</td>\n",
       "      <td>865</td>\n",
       "      <td>...</td>\n",
       "      <td>420</td>\n",
       "      <td>1355</td>\n",
       "      <td>525</td>\n",
       "      <td>285</td>\n",
       "      <td>190</td>\n",
       "      <td>175</td>\n",
       "      <td>1270</td>\n",
       "      <td>940</td>\n",
       "      <td>325</td>\n",
       "      <td>450</td>\n",
       "    </tr>\n",
       "  </tbody>\n",
       "</table>\n",
       "<p>3 rows × 23 columns</p>\n",
       "</div>"
      ],
      "text/plain": [
       "                Variable Arbutus-Ridge Downtown Dunbar-Southlands Fairview  \\\n",
       "55          5 to 9 years           340      530               580      350   \n",
       "56        10 to 14 years           400      390               810      295   \n",
       "58        15 to 19 years           580      580               870      355   \n",
       "\n",
       "   Grandview-Woodland Hastings-Sunrise Kensington-Cedar Cottage Kerrisdale  \\\n",
       "55                495              780                     1150        315   \n",
       "56                400              745                     1060        410   \n",
       "58                400              890                     1290        520   \n",
       "\n",
       "   Killarney  ... Oakridge Renfrew-Collingwood Riley Park Shaughnessy  \\\n",
       "55       660  ...      230                1035        570         210   \n",
       "56       715  ...      275                1015        515         250   \n",
       "58       865  ...      420                1355        525         285   \n",
       "\n",
       "   South Cambie Strathcona Sunset Victoria-Fraserview West End West Point Grey  \n",
       "55          170        190    860                 565      275             330  \n",
       "56          175        175    910                 650      200             410  \n",
       "58          190        175   1270                 940      325             450  \n",
       "\n",
       "[3 rows x 23 columns]"
      ]
     },
     "execution_count": 28,
     "metadata": {},
     "output_type": "execute_result"
    }
   ],
   "source": [
    "df2.head()"
   ]
  },
  {
   "cell_type": "markdown",
   "metadata": {},
   "source": [
    "---"
   ]
  },
  {
   "cell_type": "markdown",
   "metadata": {},
   "source": [
    "## Resetting index of rows  "
   ]
  },
  {
   "cell_type": "markdown",
   "metadata": {},
   "source": [
    "The new index gives again a sequential number in each row.  "
   ]
  },
  {
   "cell_type": "code",
   "execution_count": 29,
   "metadata": {},
   "outputs": [
    {
     "data": {
      "text/html": [
       "<div>\n",
       "<style scoped>\n",
       "    .dataframe tbody tr th:only-of-type {\n",
       "        vertical-align: middle;\n",
       "    }\n",
       "\n",
       "    .dataframe tbody tr th {\n",
       "        vertical-align: top;\n",
       "    }\n",
       "\n",
       "    .dataframe thead th {\n",
       "        text-align: right;\n",
       "    }\n",
       "</style>\n",
       "<table border=\"1\" class=\"dataframe\">\n",
       "  <thead>\n",
       "    <tr style=\"text-align: right;\">\n",
       "      <th></th>\n",
       "      <th>Variable</th>\n",
       "      <th>Arbutus-Ridge</th>\n",
       "      <th>Downtown</th>\n",
       "      <th>Dunbar-Southlands</th>\n",
       "      <th>Fairview</th>\n",
       "      <th>Grandview-Woodland</th>\n",
       "      <th>Hastings-Sunrise</th>\n",
       "      <th>Kensington-Cedar Cottage</th>\n",
       "      <th>Kerrisdale</th>\n",
       "      <th>Killarney</th>\n",
       "      <th>...</th>\n",
       "      <th>Oakridge</th>\n",
       "      <th>Renfrew-Collingwood</th>\n",
       "      <th>Riley Park</th>\n",
       "      <th>Shaughnessy</th>\n",
       "      <th>South Cambie</th>\n",
       "      <th>Strathcona</th>\n",
       "      <th>Sunset</th>\n",
       "      <th>Victoria-Fraserview</th>\n",
       "      <th>West End</th>\n",
       "      <th>West Point Grey</th>\n",
       "    </tr>\n",
       "  </thead>\n",
       "  <tbody>\n",
       "    <tr>\n",
       "      <td>0</td>\n",
       "      <td>5 to 9 years</td>\n",
       "      <td>340</td>\n",
       "      <td>530</td>\n",
       "      <td>580</td>\n",
       "      <td>350</td>\n",
       "      <td>495</td>\n",
       "      <td>780</td>\n",
       "      <td>1150</td>\n",
       "      <td>315</td>\n",
       "      <td>660</td>\n",
       "      <td>...</td>\n",
       "      <td>230</td>\n",
       "      <td>1035</td>\n",
       "      <td>570</td>\n",
       "      <td>210</td>\n",
       "      <td>170</td>\n",
       "      <td>190</td>\n",
       "      <td>860</td>\n",
       "      <td>565</td>\n",
       "      <td>275</td>\n",
       "      <td>330</td>\n",
       "    </tr>\n",
       "    <tr>\n",
       "      <td>1</td>\n",
       "      <td>10 to 14 years</td>\n",
       "      <td>400</td>\n",
       "      <td>390</td>\n",
       "      <td>810</td>\n",
       "      <td>295</td>\n",
       "      <td>400</td>\n",
       "      <td>745</td>\n",
       "      <td>1060</td>\n",
       "      <td>410</td>\n",
       "      <td>715</td>\n",
       "      <td>...</td>\n",
       "      <td>275</td>\n",
       "      <td>1015</td>\n",
       "      <td>515</td>\n",
       "      <td>250</td>\n",
       "      <td>175</td>\n",
       "      <td>175</td>\n",
       "      <td>910</td>\n",
       "      <td>650</td>\n",
       "      <td>200</td>\n",
       "      <td>410</td>\n",
       "    </tr>\n",
       "    <tr>\n",
       "      <td>2</td>\n",
       "      <td>15 to 19 years</td>\n",
       "      <td>580</td>\n",
       "      <td>580</td>\n",
       "      <td>870</td>\n",
       "      <td>355</td>\n",
       "      <td>400</td>\n",
       "      <td>890</td>\n",
       "      <td>1290</td>\n",
       "      <td>520</td>\n",
       "      <td>865</td>\n",
       "      <td>...</td>\n",
       "      <td>420</td>\n",
       "      <td>1355</td>\n",
       "      <td>525</td>\n",
       "      <td>285</td>\n",
       "      <td>190</td>\n",
       "      <td>175</td>\n",
       "      <td>1270</td>\n",
       "      <td>940</td>\n",
       "      <td>325</td>\n",
       "      <td>450</td>\n",
       "    </tr>\n",
       "  </tbody>\n",
       "</table>\n",
       "<p>3 rows × 23 columns</p>\n",
       "</div>"
      ],
      "text/plain": [
       "               Variable Arbutus-Ridge Downtown Dunbar-Southlands Fairview  \\\n",
       "0          5 to 9 years           340      530               580      350   \n",
       "1        10 to 14 years           400      390               810      295   \n",
       "2        15 to 19 years           580      580               870      355   \n",
       "\n",
       "  Grandview-Woodland Hastings-Sunrise Kensington-Cedar Cottage Kerrisdale  \\\n",
       "0                495              780                     1150        315   \n",
       "1                400              745                     1060        410   \n",
       "2                400              890                     1290        520   \n",
       "\n",
       "  Killarney  ... Oakridge Renfrew-Collingwood Riley Park Shaughnessy  \\\n",
       "0       660  ...      230                1035        570         210   \n",
       "1       715  ...      275                1015        515         250   \n",
       "2       865  ...      420                1355        525         285   \n",
       "\n",
       "  South Cambie Strathcona Sunset Victoria-Fraserview West End West Point Grey  \n",
       "0          170        190    860                 565      275             330  \n",
       "1          175        175    910                 650      200             410  \n",
       "2          190        175   1270                 940      325             450  \n",
       "\n",
       "[3 rows x 23 columns]"
      ]
     },
     "execution_count": 29,
     "metadata": {},
     "output_type": "execute_result"
    }
   ],
   "source": [
    "df2.reset_index(drop=True)"
   ]
  },
  {
   "cell_type": "markdown",
   "metadata": {},
   "source": [
    "---"
   ]
  },
  {
   "cell_type": "markdown",
   "metadata": {},
   "source": [
    "## Data set visual QC,to detect errors, missing values, anomalies,etc"
   ]
  },
  {
   "cell_type": "markdown",
   "metadata": {},
   "source": [
    "Plotting datasets requering numeric datatypes."
   ]
  },
  {
   "cell_type": "markdown",
   "metadata": {},
   "source": [
    "### Checking variable data types of **df2**"
   ]
  },
  {
   "cell_type": "code",
   "execution_count": 30,
   "metadata": {},
   "outputs": [
    {
     "name": "stdout",
     "output_type": "stream",
     "text": [
      "<class 'pandas.core.frame.DataFrame'>\n",
      "Int64Index: 3 entries, 55 to 58\n",
      "Data columns (total 23 columns):\n",
      "Variable                    3 non-null object\n",
      "Arbutus-Ridge               3 non-null object\n",
      "Downtown                    3 non-null object\n",
      "Dunbar-Southlands           3 non-null object\n",
      "Fairview                    3 non-null object\n",
      "Grandview-Woodland          3 non-null object\n",
      "Hastings-Sunrise            3 non-null object\n",
      "Kensington-Cedar Cottage    3 non-null object\n",
      "Kerrisdale                  3 non-null object\n",
      "Killarney                   3 non-null object\n",
      "Kitsilano                   3 non-null object\n",
      "Marpole                     3 non-null object\n",
      "Mount Pleasant              3 non-null object\n",
      "Oakridge                    3 non-null object\n",
      "Renfrew-Collingwood         3 non-null object\n",
      "Riley Park                  3 non-null object\n",
      "Shaughnessy                 3 non-null object\n",
      "South Cambie                3 non-null object\n",
      "Strathcona                  3 non-null object\n",
      "Sunset                      3 non-null object\n",
      "Victoria-Fraserview         3 non-null object\n",
      "West End                    3 non-null object\n",
      "West Point Grey             3 non-null object\n",
      "dtypes: object(23)\n",
      "memory usage: 576.0+ bytes\n"
     ]
    }
   ],
   "source": [
    "df2.info()"
   ]
  },
  {
   "cell_type": "markdown",
   "metadata": {},
   "source": [
    "To plot the dataset, numeric values should change data type from object to numeric with the following expression in each column:"
   ]
  },
  {
   "cell_type": "markdown",
   "metadata": {},
   "source": [
    "**df[\"column name\"] = pd.to_numeric(df[\"column name\"])**"
   ]
  },
  {
   "cell_type": "markdown",
   "metadata": {},
   "source": [
    "It could be repetitive and tedius if copy and paste manually each column name.Let's automatize this process:"
   ]
  },
  {
   "cell_type": "markdown",
   "metadata": {},
   "source": [
    "### changing data types"
   ]
  },
  {
   "cell_type": "markdown",
   "metadata": {},
   "source": [
    "**First step:** Identifying the columns"
   ]
  },
  {
   "cell_type": "code",
   "execution_count": 31,
   "metadata": {},
   "outputs": [
    {
     "data": {
      "text/plain": [
       "Index(['Variable', 'Arbutus-Ridge', 'Downtown', 'Dunbar-Southlands',\n",
       "       'Fairview', 'Grandview-Woodland', 'Hastings-Sunrise',\n",
       "       'Kensington-Cedar Cottage', 'Kerrisdale', 'Killarney', 'Kitsilano',\n",
       "       'Marpole', 'Mount Pleasant', 'Oakridge', 'Renfrew-Collingwood',\n",
       "       'Riley Park', 'Shaughnessy', 'South Cambie', 'Strathcona', 'Sunset',\n",
       "       'Victoria-Fraserview', 'West End', 'West Point Grey'],\n",
       "      dtype='object')"
      ]
     },
     "execution_count": 31,
     "metadata": {},
     "output_type": "execute_result"
    }
   ],
   "source": [
    "df2.columns"
   ]
  },
  {
   "cell_type": "markdown",
   "metadata": {},
   "source": [
    "**Second step:** Creating a column and a new dataFrame(df3) with all index of df2."
   ]
  },
  {
   "cell_type": "code",
   "execution_count": 32,
   "metadata": {},
   "outputs": [],
   "source": [
    "df3 = pd.DataFrame({'zones':['Arbutus-Ridge', 'Downtown', 'Dunbar-Southlands',\n",
    "       'Fairview', 'Grandview-Woodland', 'Hastings-Sunrise',\n",
    "       'Kensington-Cedar Cottage', 'Kerrisdale', 'Killarney', 'Kitsilano',\n",
    "       'Marpole', 'Mount Pleasant', 'Oakridge', 'Renfrew-Collingwood',\n",
    "       'Riley Park', 'Shaughnessy', 'South Cambie', 'Strathcona', 'Sunset',\n",
    "       'Victoria-Fraserview', 'West End', 'West Point Grey']}) "
   ]
  },
  {
   "cell_type": "code",
   "execution_count": 33,
   "metadata": {},
   "outputs": [
    {
     "data": {
      "text/html": [
       "<div>\n",
       "<style scoped>\n",
       "    .dataframe tbody tr th:only-of-type {\n",
       "        vertical-align: middle;\n",
       "    }\n",
       "\n",
       "    .dataframe tbody tr th {\n",
       "        vertical-align: top;\n",
       "    }\n",
       "\n",
       "    .dataframe thead th {\n",
       "        text-align: right;\n",
       "    }\n",
       "</style>\n",
       "<table border=\"1\" class=\"dataframe\">\n",
       "  <thead>\n",
       "    <tr style=\"text-align: right;\">\n",
       "      <th></th>\n",
       "      <th>zones</th>\n",
       "    </tr>\n",
       "  </thead>\n",
       "  <tbody>\n",
       "    <tr>\n",
       "      <td>0</td>\n",
       "      <td>Arbutus-Ridge</td>\n",
       "    </tr>\n",
       "    <tr>\n",
       "      <td>1</td>\n",
       "      <td>Downtown</td>\n",
       "    </tr>\n",
       "    <tr>\n",
       "      <td>2</td>\n",
       "      <td>Dunbar-Southlands</td>\n",
       "    </tr>\n",
       "    <tr>\n",
       "      <td>3</td>\n",
       "      <td>Fairview</td>\n",
       "    </tr>\n",
       "    <tr>\n",
       "      <td>4</td>\n",
       "      <td>Grandview-Woodland</td>\n",
       "    </tr>\n",
       "  </tbody>\n",
       "</table>\n",
       "</div>"
      ],
      "text/plain": [
       "                zones\n",
       "0       Arbutus-Ridge\n",
       "1            Downtown\n",
       "2   Dunbar-Southlands\n",
       "3            Fairview\n",
       "4  Grandview-Woodland"
      ]
     },
     "execution_count": 33,
     "metadata": {},
     "output_type": "execute_result"
    }
   ],
   "source": [
    "df3.head()"
   ]
  },
  {
   "cell_type": "markdown",
   "metadata": {},
   "source": [
    "**Third step:** With a for loop, let's change the datatype to numeric for each zone."
   ]
  },
  {
   "cell_type": "code",
   "execution_count": 34,
   "metadata": {},
   "outputs": [],
   "source": [
    "for index, row in df3.iterrows():\n",
    "    df2[row[\"zones\"]] = pd.to_numeric(df2[row[\"zones\"]])"
   ]
  },
  {
   "cell_type": "code",
   "execution_count": 35,
   "metadata": {},
   "outputs": [
    {
     "name": "stdout",
     "output_type": "stream",
     "text": [
      "<class 'pandas.core.frame.DataFrame'>\n",
      "Int64Index: 3 entries, 55 to 58\n",
      "Data columns (total 23 columns):\n",
      "Variable                    3 non-null object\n",
      "Arbutus-Ridge               3 non-null int64\n",
      "Downtown                    3 non-null int64\n",
      "Dunbar-Southlands           3 non-null int64\n",
      "Fairview                    3 non-null int64\n",
      "Grandview-Woodland          3 non-null int64\n",
      "Hastings-Sunrise            3 non-null int64\n",
      "Kensington-Cedar Cottage    3 non-null int64\n",
      "Kerrisdale                  3 non-null int64\n",
      "Killarney                   3 non-null int64\n",
      "Kitsilano                   3 non-null int64\n",
      "Marpole                     3 non-null int64\n",
      "Mount Pleasant              3 non-null int64\n",
      "Oakridge                    3 non-null int64\n",
      "Renfrew-Collingwood         3 non-null int64\n",
      "Riley Park                  3 non-null int64\n",
      "Shaughnessy                 3 non-null int64\n",
      "South Cambie                3 non-null int64\n",
      "Strathcona                  3 non-null int64\n",
      "Sunset                      3 non-null int64\n",
      "Victoria-Fraserview         3 non-null int64\n",
      "West End                    3 non-null int64\n",
      "West Point Grey             3 non-null int64\n",
      "dtypes: int64(22), object(1)\n",
      "memory usage: 576.0+ bytes\n"
     ]
    }
   ],
   "source": [
    "df2.info()"
   ]
  },
  {
   "cell_type": "markdown",
   "metadata": {},
   "source": [
    "Now, all columns in the dataFrame df2(Exept the column **Variable**) have numeric dataType"
   ]
  },
  {
   "cell_type": "markdown",
   "metadata": {},
   "source": [
    "### Plotting "
   ]
  },
  {
   "cell_type": "markdown",
   "metadata": {},
   "source": [
    "The following expression it will be used to plot each range of female population in each planning zone. "
   ]
  },
  {
   "cell_type": "markdown",
   "metadata": {},
   "source": [
    "**df2.plot(kind='bar',x='Variable',y='zones',color='green')\n",
    "plt.show()**"
   ]
  },
  {
   "cell_type": "markdown",
   "metadata": {},
   "source": [
    "With a for loop, let's plot in bar graphs of the female population data. "
   ]
  },
  {
   "cell_type": "code",
   "execution_count": 36,
   "metadata": {},
   "outputs": [
    {
     "data": {
      "image/png": "[encoded data removed]",
      "text/plain": [
       "<Figure size 432x288 with 1 Axes>"
      ]
     },
     "metadata": {
      "needs_background": "light"
     },
     "output_type": "display_data"
    },
    {
     "data": {
      "image/png": "[encoded data removed]",
      "text/plain": [
       "<Figure size 432x288 with 1 Axes>"
      ]
     },
     "metadata": {
      "needs_background": "light"
     },
     "output_type": "display_data"
    },
    {
     "data": {
      "image/png": "[encoded data removed]",
      "text/plain": [
       "<Figure size 432x288 with 1 Axes>"
      ]
     },
     "metadata": {
      "needs_background": "light"
     },
     "output_type": "display_data"
    },
    {
     "data": {
      "image/png": "[encoded data removed]",
      "text/plain": [
       "<Figure size 432x288 with 1 Axes>"
      ]
     },
     "metadata": {
      "needs_background": "light"
     },
     "output_type": "display_data"
    },
    {
     "data": {
      "image/png": "[encoded data removed]",
      "text/plain": [
       "<Figure size 432x288 with 1 Axes>"
      ]
     },
     "metadata": {
      "needs_background": "light"
     },
     "output_type": "display_data"
    },
    {
     "data": {
      "image/png": "[encoded data removed]",
      "text/plain": [
       "<Figure size 432x288 with 1 Axes>"
      ]
     },
     "metadata": {
      "needs_background": "light"
     },
     "output_type": "display_data"
    },
    {
     "data": {
      "image/png": "[encoded data removed]",
      "text/plain": [
       "<Figure size 432x288 with 1 Axes>"
      ]
     },
     "metadata": {
      "needs_background": "light"
     },
     "output_type": "display_data"
    },
    {
     "data": {
      "image/png": "[encoded data removed]",
      "text/plain": [
       "<Figure size 432x288 with 1 Axes>"
      ]
     },
     "metadata": {
      "needs_background": "light"
     },
     "output_type": "display_data"
    },
    {
     "data": {
      "image/png": "[encoded data removed]",
      "text/plain": [
       "<Figure size 432x288 with 1 Axes>"
      ]
     },
     "metadata": {
      "needs_background": "light"
     },
     "output_type": "display_data"
    },
    {
     "data": {
      "image/png": "[encoded data removed]",
      "text/plain": [
       "<Figure size 432x288 with 1 Axes>"
      ]
     },
     "metadata": {
      "needs_background": "light"
     },
     "output_type": "display_data"
    },
    {
     "data": {
      "image/png": "[encoded data removed]",
      "text/plain": [
       "<Figure size 432x288 with 1 Axes>"
      ]
     },
     "metadata": {
      "needs_background": "light"
     },
     "output_type": "display_data"
    },
    {
     "data": {
      "image/png": "[encoded data removed]",
      "text/plain": [
       "<Figure size 432x288 with 1 Axes>"
      ]
     },
     "metadata": {
      "needs_background": "light"
     },
     "output_type": "display_data"
    },
    {
     "data": {
      "image/png": "[encoded data removed]",
      "text/plain": [
       "<Figure size 432x288 with 1 Axes>"
      ]
     },
     "metadata": {
      "needs_background": "light"
     },
     "output_type": "display_data"
    },
    {
     "data": {
      "image/png": "[encoded data removed]",
      "text/plain": [
       "<Figure size 432x288 with 1 Axes>"
      ]
     },
     "metadata": {
      "needs_background": "light"
     },
     "output_type": "display_data"
    },
    {
     "data": {
      "image/png": "[encoded data removed]",
      "text/plain": [
       "<Figure size 432x288 with 1 Axes>"
      ]
     },
     "metadata": {
      "needs_background": "light"
     },
     "output_type": "display_data"
    },
    {
     "data": {
      "image/png": "[encoded data removed]",
      "text/plain": [
       "<Figure size 432x288 with 1 Axes>"
      ]
     },
     "metadata": {
      "needs_background": "light"
     },
     "output_type": "display_data"
    },
    {
     "data": {
      "image/png": "[encoded data removed]",
      "text/plain": [
       "<Figure size 432x288 with 1 Axes>"
      ]
     },
     "metadata": {
      "needs_background": "light"
     },
     "output_type": "display_data"
    },
    {
     "data": {
      "image/png": "[encoded data removed]",
      "text/plain": [
       "<Figure size 432x288 with 1 Axes>"
      ]
     },
     "metadata": {
      "needs_background": "light"
     },
     "output_type": "display_data"
    },
    {
     "data": {
      "image/png": "[encoded data removed]",
      "text/plain": [
       "<Figure size 432x288 with 1 Axes>"
      ]
     },
     "metadata": {
      "needs_background": "light"
     },
     "output_type": "display_data"
    },
    {
     "data": {
      "image/png": "[encoded data removed]",
      "text/plain": [
       "<Figure size 432x288 with 1 Axes>"
      ]
     },
     "metadata": {
      "needs_background": "light"
     },
     "output_type": "display_data"
    },
    {
     "data": {
      "image/png": "[encoded data removed]",
      "text/plain": [
       "<Figure size 432x288 with 1 Axes>"
      ]
     },
     "metadata": {
      "needs_background": "light"
     },
     "output_type": "display_data"
    },
    {
     "data": {
      "image/png": "[encoded data removed]",
      "text/plain": [
       "<Figure size 432x288 with 1 Axes>"
      ]
     },
     "metadata": {
      "needs_background": "light"
     },
     "output_type": "display_data"
    }
   ],
   "source": [
    "for index, row in df3.iterrows():\n",
    "    df2.plot(kind='bar',x='Variable',y=row[\"zones\"],color=(round(random.uniform(0,1),1),round(random.uniform(0,1),1),round(random.uniform(0,1),1)))\n",
    "    plt.show()"
   ]
  },
  {
   "cell_type": "markdown",
   "metadata": {},
   "source": [
    "After analyzing each bar graph, I didn't see any discrepancy or possible error."
   ]
  },
  {
   "cell_type": "markdown",
   "metadata": {},
   "source": [
    "---"
   ]
  },
  {
   "cell_type": "markdown",
   "metadata": {},
   "source": [
    "## Data conditioning to be included in a shapefile"
   ]
  },
  {
   "cell_type": "markdown",
   "metadata": {},
   "source": [
    "To visualize the female population in the final map, this dataFrame df2 will be included in a shapefile."
   ]
  },
  {
   "cell_type": "markdown",
   "metadata": {},
   "source": [
    "**First step:** Transpose dataframe df2"
   ]
  },
  {
   "cell_type": "code",
   "execution_count": 37,
   "metadata": {},
   "outputs": [
    {
     "data": {
      "text/plain": [
       "Index(['Variable', 'Arbutus-Ridge', 'Downtown', 'Dunbar-Southlands',\n",
       "       'Fairview', 'Grandview-Woodland', 'Hastings-Sunrise',\n",
       "       'Kensington-Cedar Cottage', 'Kerrisdale', 'Killarney', 'Kitsilano',\n",
       "       'Marpole', 'Mount Pleasant', 'Oakridge', 'Renfrew-Collingwood',\n",
       "       'Riley Park', 'Shaughnessy', 'South Cambie', 'Strathcona', 'Sunset',\n",
       "       'Victoria-Fraserview', 'West End', 'West Point Grey'],\n",
       "      dtype='object')"
      ]
     },
     "execution_count": 37,
     "metadata": {},
     "output_type": "execute_result"
    }
   ],
   "source": [
    "df2.columns"
   ]
  },
  {
   "cell_type": "code",
   "execution_count": 38,
   "metadata": {},
   "outputs": [],
   "source": [
    "df2_transpose = df2.T"
   ]
  },
  {
   "cell_type": "markdown",
   "metadata": {},
   "source": [
    "**Second step:** Reset index."
   ]
  },
  {
   "cell_type": "code",
   "execution_count": 39,
   "metadata": {},
   "outputs": [],
   "source": [
    "new_index = ['Sunset', 'Mount Pleasant', 'Riley Park', 'Downtown','Kitsilano', 'Dunbar-Southlands', 'Kerrisdale', 'Arbutus-Ridge', \n",
    "             'West Point Grey', 'Marpole', 'Oakridge', 'Shaughnessy', 'Fairview', 'South Cambie', 'West End', 'Killarney', 'Renfrew-Collingwood',\n",
    "             'Hastings-Sunrise', 'Victoria-Fraserview', 'Kensington-Cedar Cottage', 'Strathcona', 'Grandview-Woodland'\n",
    "             ]"
   ]
  },
  {
   "cell_type": "code",
   "execution_count": 40,
   "metadata": {},
   "outputs": [],
   "source": [
    "df4 = df2_transpose.reindex(new_index)"
   ]
  },
  {
   "cell_type": "markdown",
   "metadata": {},
   "source": [
    "**Third step:** Rename columns name."
   ]
  },
  {
   "cell_type": "code",
   "execution_count": 41,
   "metadata": {},
   "outputs": [],
   "source": [
    "df5 = df4.rename(columns={55: \"5 to 9 years\", 56 : \"10 to 14 years\", 58 : \"15 to 19 years\"})"
   ]
  },
  {
   "cell_type": "markdown",
   "metadata": {},
   "source": [
    "## Writing data (output)"
   ]
  },
  {
   "cell_type": "code",
   "execution_count": 42,
   "metadata": {},
   "outputs": [],
   "source": [
    "df5.to_csv('data/FemalePopulationDataset_cleaned.csv')"
   ]
  }
 ],
 "metadata": {
  "kernelspec": {
   "display_name": "Python 3",
   "language": "python",
   "name": "python3"
  },
  "language_info": {
   "codemirror_mode": {
    "name": "ipython",
    "version": 3
   },
   "file_extension": ".py",
   "mimetype": "text/x-python",
   "name": "python",
   "nbconvert_exporter": "python",
   "pygments_lexer": "ipython3",
   "version": "3.7.4"
  }
 },
 "nbformat": 4,
 "nbformat_minor": 4
}
