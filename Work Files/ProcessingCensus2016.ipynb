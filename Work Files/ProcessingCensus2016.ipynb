{
 "cells": [
  {
   "cell_type": "markdown",
   "metadata": {},
   "source": [
    "# Processing Vancouver city Census 2016 dataset"
   ]
  },
  {
   "cell_type": "markdown",
   "metadata": {},
   "source": [
    "## Reading data Input"
   ]
  },
  {
   "cell_type": "markdown",
   "metadata": {},
   "source": [
    "Using read_csv (function of pandas) to read the input file. The **encoding='ISO-8859-1** option permits read the input file properly. The **index_col=0** option, tells to read_csv function that the first column in the data set is the index column. "
   ]
  },
  {
   "cell_type": "code",
   "execution_count": 185,
   "metadata": {},
   "outputs": [],
   "source": [
    "import numpy as np\n",
    "import pandas as pd\n",
    "\n",
    "df = pd.read_csv('data/CensusLocalAreaProfiles2016.csv', encoding='ISO-8859-1', index_col=0)\n"
   ]
  },
  {
   "cell_type": "markdown",
   "metadata": {},
   "source": [
    "---"
   ]
  },
  {
   "cell_type": "markdown",
   "metadata": {},
   "source": [
    "## Determining existence of data in data frame(input file)"
   ]
  },
  {
   "cell_type": "code",
   "execution_count": 186,
   "metadata": {},
   "outputs": [
    {
     "data": {
      "text/plain": [
       "False"
      ]
     },
     "execution_count": 186,
     "metadata": {},
     "output_type": "execute_result"
    }
   ],
   "source": [
    "df.empty"
   ]
  },
  {
   "cell_type": "markdown",
   "metadata": {},
   "source": [
    "Due the function **empty** (applied in the data frame created) is False, The dataframe has data. This step is important in order to check if the data was copied correctly in the hard disk, transference issues or there are an inconvinient in generation of data frame."
   ]
  },
  {
   "cell_type": "markdown",
   "metadata": {},
   "source": [
    "---"
   ]
  },
  {
   "cell_type": "markdown",
   "metadata": {},
   "source": [
    "## Finding dimensions of the dataframe\n"
   ]
  },
  {
   "cell_type": "code",
   "execution_count": 187,
   "metadata": {},
   "outputs": [
    {
     "data": {
      "text/plain": [
       "(5589, 25)"
      ]
     },
     "execution_count": 187,
     "metadata": {},
     "output_type": "execute_result"
    }
   ],
   "source": [
    "df.shape"
   ]
  },
  {
   "cell_type": "markdown",
   "metadata": {},
   "source": [
    "According to the function **shape** applied to the data frame, the data has 5589 rows and 26 columns"
   ]
  },
  {
   "cell_type": "markdown",
   "metadata": {},
   "source": [
    "---"
   ]
  },
  {
   "cell_type": "markdown",
   "metadata": {},
   "source": [
    "## Size of the Input File  (CensusLocalAreaProfiles2016.csv)"
   ]
  },
  {
   "cell_type": "code",
   "execution_count": 188,
   "metadata": {},
   "outputs": [
    {
     "name": "stdout",
     "output_type": "stream",
     "text": [
      " Volume in drive C is Windows8_OS\n",
      " Volume Serial Number is 4623-A251\n",
      "\n",
      " Directory of C:\\Users\\Jhonny\\Google Drive\\Coding\\git\\Data Analysis Project-Population vs Schools\\data\n",
      "\n",
      "2019-11-14  08:01 PM           628,241 CensusLocalAreaProfiles2016.csv\n",
      "               1 File(s)        628,241 bytes\n",
      "               0 Dir(s)  324,695,138,304 bytes free\n"
     ]
    }
   ],
   "source": [
    "!dir data\\CensusLocalAreaProfiles2016.csv"
   ]
  },
  {
   "cell_type": "markdown",
   "metadata": {},
   "source": [
    "Determining the size of the input file, permits check posible data lost in data copying."
   ]
  },
  {
   "cell_type": "markdown",
   "metadata": {},
   "source": [
    "---"
   ]
  },
  {
   "cell_type": "markdown",
   "metadata": {},
   "source": [
    "## Checking permissions in the file"
   ]
  },
  {
   "cell_type": "markdown",
   "metadata": {},
   "source": [
    "!icacls data\\CensusLocalAreaProfiles2016.csv"
   ]
  },
  {
   "cell_type": "markdown",
   "metadata": {},
   "source": [
    "Checking permissions in the file avoid possible errors when creating data or running tasks."
   ]
  },
  {
   "cell_type": "markdown",
   "metadata": {},
   "source": [
    "(I) - permission inherited from parent container\n",
    " F - full access"
   ]
  },
  {
   "cell_type": "markdown",
   "metadata": {},
   "source": [
    "---"
   ]
  },
  {
   "cell_type": "markdown",
   "metadata": {},
   "source": [
    "## Visualization of the dataframe"
   ]
  },
  {
   "cell_type": "code",
   "execution_count": 189,
   "metadata": {},
   "outputs": [
    {
     "data": {
      "text/html": [
       "<div>\n",
       "<style scoped>\n",
       "    .dataframe tbody tr th:only-of-type {\n",
       "        vertical-align: middle;\n",
       "    }\n",
       "\n",
       "    .dataframe tbody tr th {\n",
       "        vertical-align: top;\n",
       "    }\n",
       "\n",
       "    .dataframe thead th {\n",
       "        text-align: right;\n",
       "    }\n",
       "</style>\n",
       "<table border=\"1\" class=\"dataframe\">\n",
       "  <thead>\n",
       "    <tr style=\"text-align: right;\">\n",
       "      <th></th>\n",
       "      <th>Variable</th>\n",
       "      <th>Arbutus-Ridge</th>\n",
       "      <th>Downtown</th>\n",
       "      <th>Dunbar-Southlands</th>\n",
       "      <th>Fairview</th>\n",
       "      <th>Grandview-Woodland</th>\n",
       "      <th>Hastings-Sunrise</th>\n",
       "      <th>Kensington-Cedar Cottage</th>\n",
       "      <th>Kerrisdale</th>\n",
       "      <th>Killarney</th>\n",
       "      <th>...</th>\n",
       "      <th>Riley Park</th>\n",
       "      <th>Shaughnessy</th>\n",
       "      <th>South Cambie</th>\n",
       "      <th>Strathcona</th>\n",
       "      <th>Sunset</th>\n",
       "      <th>Victoria-Fraserview</th>\n",
       "      <th>West End</th>\n",
       "      <th>West Point Grey</th>\n",
       "      <th>Vancouver CSD</th>\n",
       "      <th>Vancouver CMA</th>\n",
       "    </tr>\n",
       "    <tr>\n",
       "      <th>ID</th>\n",
       "      <th></th>\n",
       "      <th></th>\n",
       "      <th></th>\n",
       "      <th></th>\n",
       "      <th></th>\n",
       "      <th></th>\n",
       "      <th></th>\n",
       "      <th></th>\n",
       "      <th></th>\n",
       "      <th></th>\n",
       "      <th></th>\n",
       "      <th></th>\n",
       "      <th></th>\n",
       "      <th></th>\n",
       "      <th></th>\n",
       "      <th></th>\n",
       "      <th></th>\n",
       "      <th></th>\n",
       "      <th></th>\n",
       "      <th></th>\n",
       "      <th></th>\n",
       "    </tr>\n",
       "  </thead>\n",
       "  <tbody>\n",
       "    <tr>\n",
       "      <td>1</td>\n",
       "      <td>Total - Age groups and average age of the pop...</td>\n",
       "      <td>15,295</td>\n",
       "      <td>62,030</td>\n",
       "      <td>21,425</td>\n",
       "      <td>33,620</td>\n",
       "      <td>29,175</td>\n",
       "      <td>34,575</td>\n",
       "      <td>49,325</td>\n",
       "      <td>13,975</td>\n",
       "      <td>29,325</td>\n",
       "      <td>...</td>\n",
       "      <td>22,555</td>\n",
       "      <td>8,430</td>\n",
       "      <td>7,970</td>\n",
       "      <td>12,585</td>\n",
       "      <td>36,500</td>\n",
       "      <td>31,065</td>\n",
       "      <td>47,200</td>\n",
       "      <td>13,065</td>\n",
       "      <td>631,485</td>\n",
       "      <td>2,463,430</td>\n",
       "    </tr>\n",
       "    <tr>\n",
       "      <td>2</td>\n",
       "      <td>0 to 14 years</td>\n",
       "      <td>2015</td>\n",
       "      <td>4000</td>\n",
       "      <td>3545</td>\n",
       "      <td>2580</td>\n",
       "      <td>3210</td>\n",
       "      <td>4595</td>\n",
       "      <td>7060</td>\n",
       "      <td>1880</td>\n",
       "      <td>4185</td>\n",
       "      <td>...</td>\n",
       "      <td>3415</td>\n",
       "      <td>1175</td>\n",
       "      <td>1105</td>\n",
       "      <td>1065</td>\n",
       "      <td>5460</td>\n",
       "      <td>3790</td>\n",
       "      <td>1945</td>\n",
       "      <td>1900</td>\n",
       "      <td>70530</td>\n",
       "      <td>362110</td>\n",
       "    </tr>\n",
       "    <tr>\n",
       "      <td>3</td>\n",
       "      <td>0 to 4 years</td>\n",
       "      <td>455</td>\n",
       "      <td>2080</td>\n",
       "      <td>675</td>\n",
       "      <td>1240</td>\n",
       "      <td>1320</td>\n",
       "      <td>1510</td>\n",
       "      <td>2515</td>\n",
       "      <td>430</td>\n",
       "      <td>1300</td>\n",
       "      <td>...</td>\n",
       "      <td>1175</td>\n",
       "      <td>270</td>\n",
       "      <td>360</td>\n",
       "      <td>360</td>\n",
       "      <td>1695</td>\n",
       "      <td>1175</td>\n",
       "      <td>965</td>\n",
       "      <td>420</td>\n",
       "      <td>24615</td>\n",
       "      <td>116270</td>\n",
       "    </tr>\n",
       "    <tr>\n",
       "      <td>4</td>\n",
       "      <td>5 to 9 years</td>\n",
       "      <td>685</td>\n",
       "      <td>1105</td>\n",
       "      <td>1225</td>\n",
       "      <td>760</td>\n",
       "      <td>1025</td>\n",
       "      <td>1560</td>\n",
       "      <td>2390</td>\n",
       "      <td>600</td>\n",
       "      <td>1400</td>\n",
       "      <td>...</td>\n",
       "      <td>1160</td>\n",
       "      <td>405</td>\n",
       "      <td>365</td>\n",
       "      <td>365</td>\n",
       "      <td>1780</td>\n",
       "      <td>1210</td>\n",
       "      <td>560</td>\n",
       "      <td>670</td>\n",
       "      <td>22905</td>\n",
       "      <td>122730</td>\n",
       "    </tr>\n",
       "    <tr>\n",
       "      <td>5</td>\n",
       "      <td>10 to 14 years</td>\n",
       "      <td>880</td>\n",
       "      <td>810</td>\n",
       "      <td>1650</td>\n",
       "      <td>580</td>\n",
       "      <td>865</td>\n",
       "      <td>1525</td>\n",
       "      <td>2160</td>\n",
       "      <td>845</td>\n",
       "      <td>1485</td>\n",
       "      <td>...</td>\n",
       "      <td>1080</td>\n",
       "      <td>500</td>\n",
       "      <td>375</td>\n",
       "      <td>340</td>\n",
       "      <td>1985</td>\n",
       "      <td>1410</td>\n",
       "      <td>415</td>\n",
       "      <td>810</td>\n",
       "      <td>23010</td>\n",
       "      <td>123110</td>\n",
       "    </tr>\n",
       "  </tbody>\n",
       "</table>\n",
       "<p>5 rows × 25 columns</p>\n",
       "</div>"
      ],
      "text/plain": [
       "                                             Variable Arbutus-Ridge   \\\n",
       "ID                                                                     \n",
       "1    Total - Age groups and average age of the pop...         15,295   \n",
       "2                                       0 to 14 years           2015   \n",
       "3                                        0 to 4 years            455   \n",
       "4                                        5 to 9 years            685   \n",
       "5                                      10 to 14 years            880   \n",
       "\n",
       "   Downtown  Dunbar-Southlands  Fairview  Grandview-Woodland   \\\n",
       "ID                                                              \n",
       "1     62,030             21,425    33,620              29,175   \n",
       "2       4000               3545      2580                3210   \n",
       "3       2080                675      1240                1320   \n",
       "4       1105               1225       760                1025   \n",
       "5        810               1650       580                 865   \n",
       "\n",
       "   Hastings-Sunrise  Kensington-Cedar Cottage  Kerrisdale  Killarney   ...  \\\n",
       "ID                                                                     ...   \n",
       "1             34,575                    49,325      13,975     29,325  ...   \n",
       "2               4595                      7060        1880       4185  ...   \n",
       "3               1510                      2515         430       1300  ...   \n",
       "4               1560                      2390         600       1400  ...   \n",
       "5               1525                      2160         845       1485  ...   \n",
       "\n",
       "   Riley Park  Shaughnessy  South Cambie  Strathcona  Sunset   \\\n",
       "ID                                                              \n",
       "1       22,555        8,430         7,970      12,585  36,500   \n",
       "2         3415         1175          1105        1065    5460   \n",
       "3         1175          270           360         360    1695   \n",
       "4         1160          405           365         365    1780   \n",
       "5         1080          500           375         340    1985   \n",
       "\n",
       "   Victoria-Fraserview West End  West Point Grey  Vancouver CSD   \\\n",
       "ID                                                                 \n",
       "1               31,065    47,200           13,065        631,485   \n",
       "2                 3790      1945             1900          70530   \n",
       "3                 1175       965              420          24615   \n",
       "4                 1210       560              670          22905   \n",
       "5                 1410       415              810          23010   \n",
       "\n",
       "   Vancouver CMA   \n",
       "ID                 \n",
       "1       2,463,430  \n",
       "2          362110  \n",
       "3          116270  \n",
       "4          122730  \n",
       "5          123110  \n",
       "\n",
       "[5 rows x 25 columns]"
      ]
     },
     "execution_count": 189,
     "metadata": {},
     "output_type": "execute_result"
    }
   ],
   "source": [
    "df.head()"
   ]
  },
  {
   "cell_type": "markdown",
   "metadata": {},
   "source": [
    "The function **head()** gives an idea that how the data looks like."
   ]
  },
  {
   "cell_type": "markdown",
   "metadata": {},
   "source": [
    "---"
   ]
  },
  {
   "cell_type": "markdown",
   "metadata": {},
   "source": [
    "## Checking columns in dataframe"
   ]
  },
  {
   "cell_type": "markdown",
   "metadata": {},
   "source": [
    "Using the function **columns**, the name of each column can be checked."
   ]
  },
  {
   "cell_type": "code",
   "execution_count": 190,
   "metadata": {},
   "outputs": [
    {
     "data": {
      "text/plain": [
       "Index(['Variable', 'Arbutus-Ridge ', 'Downtown ', 'Dunbar-Southlands ',\n",
       "       'Fairview ', 'Grandview-Woodland ', 'Hastings-Sunrise ',\n",
       "       'Kensington-Cedar Cottage ', 'Kerrisdale ', 'Killarney ', 'Kitsilano ',\n",
       "       'Marpole ', 'Mount Pleasant ', 'Oakridge ', 'Renfrew-Collingwood ',\n",
       "       'Riley Park ', 'Shaughnessy ', 'South Cambie ', 'Strathcona ',\n",
       "       'Sunset ', 'Victoria-Fraserview', 'West End ', 'West Point Grey ',\n",
       "       'Vancouver CSD ', 'Vancouver CMA '],\n",
       "      dtype='object')"
      ]
     },
     "execution_count": 190,
     "metadata": {},
     "output_type": "execute_result"
    }
   ],
   "source": [
    "df.columns"
   ]
  },
  {
   "cell_type": "markdown",
   "metadata": {},
   "source": [
    " A space in the end of aech column's name was found. This space should be deleted."
   ]
  },
  {
   "cell_type": "markdown",
   "metadata": {},
   "source": [
    "---"
   ]
  },
  {
   "cell_type": "markdown",
   "metadata": {},
   "source": [
    "### Deleting unnecessary spaces on columns names"
   ]
  },
  {
   "cell_type": "markdown",
   "metadata": {},
   "source": [
    "Using **rename** function, the spaces in the end of each name of the column can be deleted by renaming it"
   ]
  },
  {
   "cell_type": "code",
   "execution_count": 191,
   "metadata": {},
   "outputs": [],
   "source": [
    "df.rename(\n",
    "    columns={\n",
    "        'Arbutus-Ridge ' : 'Arbutus-Ridge', \n",
    "        'Downtown ' : 'Downtown', \n",
    "        'Dunbar-Southlands ' : 'Dunbar-Southlands',\n",
    "        'Fairview ' : 'Fairview', \n",
    "        'Grandview-Woodland ' : 'Grandview-Woodland',\n",
    "        'Hastings-Sunrise ' : 'Hastings-Sunrise',\n",
    "        'Kensington-Cedar Cottage ' : 'Kensington-Cedar Cottage' ,\n",
    "        'Kerrisdale ' : 'Kerrisdale', \n",
    "        'Killarney ' : 'Killarney', \n",
    "        'Kitsilano ' : 'Kitsilano',\n",
    "        'Marpole ' : 'Marpole',\n",
    "        'Mount Pleasant ' : 'Mount Pleasant',\n",
    "        'Oakridge ' : 'Oakridge',\n",
    "        'Renfrew-Collingwood ' : 'Renfrew-Collingwood',\n",
    "        'Riley Park ' : 'Riley Park', \n",
    "        'Shaughnessy ' : 'Shaughnessy', \n",
    "        'South Cambie ' : 'South Cambie' , \n",
    "        'Strathcona ' : 'Strathcona' ,\n",
    "        'Sunset ' : 'Sunset' ,  \n",
    "        'West End ' : 'West End' , \n",
    "        'West Point Grey ' : 'West Point Grey',\n",
    "        'Vancouver CSD ' : 'Vancouver CSD' , \n",
    "        'Vancouver CMA ' : 'Vancouver CMA' \n",
    "    }, inplace=True\n",
    ")"
   ]
  },
  {
   "cell_type": "markdown",
   "metadata": {},
   "source": [
    "### Quality control of the edition"
   ]
  },
  {
   "cell_type": "markdown",
   "metadata": {},
   "source": [
    "The function **Columns** is called again after the edition of spaces in order to check that the names was written with out errors."
   ]
  },
  {
   "cell_type": "code",
   "execution_count": 192,
   "metadata": {},
   "outputs": [
    {
     "data": {
      "text/plain": [
       "Index(['Variable', 'Arbutus-Ridge', 'Downtown', 'Dunbar-Southlands',\n",
       "       'Fairview', 'Grandview-Woodland', 'Hastings-Sunrise',\n",
       "       'Kensington-Cedar Cottage', 'Kerrisdale', 'Killarney', 'Kitsilano',\n",
       "       'Marpole', 'Mount Pleasant', 'Oakridge', 'Renfrew-Collingwood',\n",
       "       'Riley Park', 'Shaughnessy', 'South Cambie', 'Strathcona', 'Sunset',\n",
       "       'Victoria-Fraserview', 'West End', 'West Point Grey', 'Vancouver CSD',\n",
       "       'Vancouver CMA'],\n",
       "      dtype='object')"
      ]
     },
     "execution_count": 192,
     "metadata": {},
     "output_type": "execute_result"
    }
   ],
   "source": [
    "df.columns"
   ]
  },
  {
   "cell_type": "markdown",
   "metadata": {},
   "source": [
    "The spaces after the name of each columns was deleted. Deleting spaces is important due it can avoid possible future errors in the data processing."
   ]
  },
  {
   "cell_type": "markdown",
   "metadata": {},
   "source": [
    "---"
   ]
  },
  {
   "cell_type": "markdown",
   "metadata": {},
   "source": [
    "## Information of data types in data frame"
   ]
  },
  {
   "cell_type": "markdown",
   "metadata": {},
   "source": [
    "The function **dtypes** permits see data types of each column of the data frame. Knowing data types in data frame could avoid possible errors or unexpected results in the future."
   ]
  },
  {
   "cell_type": "code",
   "execution_count": 193,
   "metadata": {},
   "outputs": [
    {
     "data": {
      "text/plain": [
       "Variable                    object\n",
       "Arbutus-Ridge               object\n",
       "Downtown                    object\n",
       "Dunbar-Southlands           object\n",
       "Fairview                    object\n",
       "Grandview-Woodland          object\n",
       "Hastings-Sunrise            object\n",
       "Kensington-Cedar Cottage    object\n",
       "Kerrisdale                  object\n",
       "Killarney                   object\n",
       "Kitsilano                   object\n",
       "Marpole                     object\n",
       "Mount Pleasant              object\n",
       "Oakridge                    object\n",
       "Renfrew-Collingwood         object\n",
       "Riley Park                  object\n",
       "Shaughnessy                 object\n",
       "South Cambie                object\n",
       "Strathcona                  object\n",
       "Sunset                      object\n",
       "Victoria-Fraserview         object\n",
       "West End                    object\n",
       "West Point Grey             object\n",
       "Vancouver CSD               object\n",
       "Vancouver CMA               object\n",
       "dtype: object"
      ]
     },
     "execution_count": 193,
     "metadata": {},
     "output_type": "execute_result"
    }
   ],
   "source": [
    "df.dtypes\n"
   ]
  },
  {
   "cell_type": "markdown",
   "metadata": {},
   "source": [
    "All columns are type **object** (used for numeric, non-numeric and text values)."
   ]
  },
  {
   "cell_type": "markdown",
   "metadata": {},
   "source": [
    "---"
   ]
  },
  {
   "cell_type": "markdown",
   "metadata": {},
   "source": [
    "## Finding nulls"
   ]
  },
  {
   "cell_type": "markdown",
   "metadata": {},
   "source": [
    "The function **info()** shows a complete information of the data frame, including non-null values."
   ]
  },
  {
   "cell_type": "code",
   "execution_count": 194,
   "metadata": {},
   "outputs": [
    {
     "name": "stdout",
     "output_type": "stream",
     "text": [
      "<class 'pandas.core.frame.DataFrame'>\n",
      "Index: 5589 entries, 1 to 5493\n",
      "Data columns (total 25 columns):\n",
      "Variable                    5493 non-null object\n",
      "Arbutus-Ridge               5493 non-null object\n",
      "Downtown                    5493 non-null object\n",
      "Dunbar-Southlands           5493 non-null object\n",
      "Fairview                    5493 non-null object\n",
      "Grandview-Woodland          5493 non-null object\n",
      "Hastings-Sunrise            5493 non-null object\n",
      "Kensington-Cedar Cottage    5493 non-null object\n",
      "Kerrisdale                  5493 non-null object\n",
      "Killarney                   5493 non-null object\n",
      "Kitsilano                   5493 non-null object\n",
      "Marpole                     5493 non-null object\n",
      "Mount Pleasant              5493 non-null object\n",
      "Oakridge                    5493 non-null object\n",
      "Renfrew-Collingwood         5493 non-null object\n",
      "Riley Park                  5493 non-null object\n",
      "Shaughnessy                 5493 non-null object\n",
      "South Cambie                5493 non-null object\n",
      "Strathcona                  5493 non-null object\n",
      "Sunset                      5493 non-null object\n",
      "Victoria-Fraserview         5493 non-null object\n",
      "West End                    5493 non-null object\n",
      "West Point Grey             5493 non-null object\n",
      "Vancouver CSD               5493 non-null object\n",
      "Vancouver CMA               5493 non-null object\n",
      "dtypes: object(25)\n",
      "memory usage: 1.1+ MB\n"
     ]
    }
   ],
   "source": [
    "df.info()"
   ]
  },
  {
   "cell_type": "markdown",
   "metadata": {},
   "source": [
    "As reported by the function **info()** there are 5589 entries (can be describe as 5589 rows) and 26 columns. It is the same dimension of the data frame reported by the function **dimensions** in the step three of this workfllow. A simple subtration of 5494 to 5589, shows that there are 95 null objects in that column. Similar operation in the rest of the columns, shows 96 null objects in each column. For now, no any actions it will be taken with the null objects."
   ]
  },
  {
   "cell_type": "markdown",
   "metadata": {},
   "source": [
    "---"
   ]
  },
  {
   "cell_type": "markdown",
   "metadata": {},
   "source": [
    "## Describing all data types"
   ]
  },
  {
   "cell_type": "markdown",
   "metadata": {},
   "source": [
    "Although the function **describe** is more useful in numeric values and not in objects, the application of this object can give some infomration in this step."
   ]
  },
  {
   "cell_type": "code",
   "execution_count": 195,
   "metadata": {},
   "outputs": [
    {
     "data": {
      "text/html": [
       "<div>\n",
       "<style scoped>\n",
       "    .dataframe tbody tr th:only-of-type {\n",
       "        vertical-align: middle;\n",
       "    }\n",
       "\n",
       "    .dataframe tbody tr th {\n",
       "        vertical-align: top;\n",
       "    }\n",
       "\n",
       "    .dataframe thead th {\n",
       "        text-align: right;\n",
       "    }\n",
       "</style>\n",
       "<table border=\"1\" class=\"dataframe\">\n",
       "  <thead>\n",
       "    <tr style=\"text-align: right;\">\n",
       "      <th></th>\n",
       "      <th>Variable</th>\n",
       "      <th>Arbutus-Ridge</th>\n",
       "      <th>Downtown</th>\n",
       "      <th>Dunbar-Southlands</th>\n",
       "      <th>Fairview</th>\n",
       "      <th>Grandview-Woodland</th>\n",
       "      <th>Hastings-Sunrise</th>\n",
       "      <th>Kensington-Cedar Cottage</th>\n",
       "      <th>Kerrisdale</th>\n",
       "      <th>Killarney</th>\n",
       "      <th>...</th>\n",
       "      <th>Riley Park</th>\n",
       "      <th>Shaughnessy</th>\n",
       "      <th>South Cambie</th>\n",
       "      <th>Strathcona</th>\n",
       "      <th>Sunset</th>\n",
       "      <th>Victoria-Fraserview</th>\n",
       "      <th>West End</th>\n",
       "      <th>West Point Grey</th>\n",
       "      <th>Vancouver CSD</th>\n",
       "      <th>Vancouver CMA</th>\n",
       "    </tr>\n",
       "  </thead>\n",
       "  <tbody>\n",
       "    <tr>\n",
       "      <td>count</td>\n",
       "      <td>5493</td>\n",
       "      <td>5493</td>\n",
       "      <td>5493</td>\n",
       "      <td>5493</td>\n",
       "      <td>5493</td>\n",
       "      <td>5493</td>\n",
       "      <td>5493</td>\n",
       "      <td>5493</td>\n",
       "      <td>5493</td>\n",
       "      <td>5493</td>\n",
       "      <td>...</td>\n",
       "      <td>5493</td>\n",
       "      <td>5493</td>\n",
       "      <td>5493</td>\n",
       "      <td>5493</td>\n",
       "      <td>5493</td>\n",
       "      <td>5493</td>\n",
       "      <td>5493</td>\n",
       "      <td>5493</td>\n",
       "      <td>5493</td>\n",
       "      <td>5493</td>\n",
       "    </tr>\n",
       "    <tr>\n",
       "      <td>unique</td>\n",
       "      <td>2278</td>\n",
       "      <td>756</td>\n",
       "      <td>1222</td>\n",
       "      <td>847</td>\n",
       "      <td>1014</td>\n",
       "      <td>953</td>\n",
       "      <td>1005</td>\n",
       "      <td>1100</td>\n",
       "      <td>739</td>\n",
       "      <td>928</td>\n",
       "      <td>...</td>\n",
       "      <td>857</td>\n",
       "      <td>615</td>\n",
       "      <td>589</td>\n",
       "      <td>678</td>\n",
       "      <td>1008</td>\n",
       "      <td>964</td>\n",
       "      <td>1158</td>\n",
       "      <td>719</td>\n",
       "      <td>2099</td>\n",
       "      <td>2553</td>\n",
       "    </tr>\n",
       "    <tr>\n",
       "      <td>top</td>\n",
       "      <td>English and French</td>\n",
       "      <td>0</td>\n",
       "      <td>0</td>\n",
       "      <td>0</td>\n",
       "      <td>0</td>\n",
       "      <td>0</td>\n",
       "      <td>0</td>\n",
       "      <td>0</td>\n",
       "      <td>0</td>\n",
       "      <td>0</td>\n",
       "      <td>...</td>\n",
       "      <td>0</td>\n",
       "      <td>0</td>\n",
       "      <td>0</td>\n",
       "      <td>0</td>\n",
       "      <td>0</td>\n",
       "      <td>0</td>\n",
       "      <td>0</td>\n",
       "      <td>0</td>\n",
       "      <td>0</td>\n",
       "      <td>0</td>\n",
       "    </tr>\n",
       "    <tr>\n",
       "      <td>freq</td>\n",
       "      <td>11</td>\n",
       "      <td>2742</td>\n",
       "      <td>1910</td>\n",
       "      <td>2607</td>\n",
       "      <td>2284</td>\n",
       "      <td>2261</td>\n",
       "      <td>2327</td>\n",
       "      <td>2190</td>\n",
       "      <td>2798</td>\n",
       "      <td>2317</td>\n",
       "      <td>...</td>\n",
       "      <td>2506</td>\n",
       "      <td>2961</td>\n",
       "      <td>2893</td>\n",
       "      <td>2676</td>\n",
       "      <td>2260</td>\n",
       "      <td>2448</td>\n",
       "      <td>2032</td>\n",
       "      <td>2726</td>\n",
       "      <td>1187</td>\n",
       "      <td>889</td>\n",
       "    </tr>\n",
       "  </tbody>\n",
       "</table>\n",
       "<p>4 rows × 25 columns</p>\n",
       "</div>"
      ],
      "text/plain": [
       "                      Variable Arbutus-Ridge Downtown Dunbar-Southlands  \\\n",
       "count                     5493          5493     5493              5493   \n",
       "unique                    2278           756     1222               847   \n",
       "top         English and French             0        0                 0   \n",
       "freq                        11          2742     1910              2607   \n",
       "\n",
       "       Fairview Grandview-Woodland Hastings-Sunrise Kensington-Cedar Cottage  \\\n",
       "count      5493               5493             5493                     5493   \n",
       "unique     1014                953             1005                     1100   \n",
       "top           0                  0                0                        0   \n",
       "freq       2284               2261             2327                     2190   \n",
       "\n",
       "       Kerrisdale Killarney  ... Riley Park Shaughnessy South Cambie  \\\n",
       "count        5493      5493  ...       5493        5493         5493   \n",
       "unique        739       928  ...        857         615          589   \n",
       "top             0         0  ...          0           0            0   \n",
       "freq         2798      2317  ...       2506        2961         2893   \n",
       "\n",
       "       Strathcona Sunset Victoria-Fraserview West End West Point Grey  \\\n",
       "count        5493   5493                5493     5493            5493   \n",
       "unique        678   1008                 964     1158             719   \n",
       "top             0      0                   0        0               0   \n",
       "freq         2676   2260                2448     2032            2726   \n",
       "\n",
       "       Vancouver CSD Vancouver CMA  \n",
       "count           5493          5493  \n",
       "unique          2099          2553  \n",
       "top                0             0  \n",
       "freq            1187           889  \n",
       "\n",
       "[4 rows x 25 columns]"
      ]
     },
     "execution_count": 195,
     "metadata": {},
     "output_type": "execute_result"
    }
   ],
   "source": [
    "df.describe(include='all')"
   ]
  },
  {
   "cell_type": "markdown",
   "metadata": {},
   "source": [
    "In the stats returned by the function **count** shows the total number of non-null objects. In adition, ID's unique numbers are checked too."
   ]
  },
  {
   "cell_type": "markdown",
   "metadata": {},
   "source": [
    "---"
   ]
  },
  {
   "cell_type": "markdown",
   "metadata": {},
   "source": [
    "## Continuing Finding nulls"
   ]
  },
  {
   "cell_type": "markdown",
   "metadata": {},
   "source": [
    "Mising values in a data frame can be detected using the function **isna()** . in the ID column of the data frame **isna()** function was applied and it was saved in a variable called **_containsNulls_**."
   ]
  },
  {
   "cell_type": "markdown",
   "metadata": {},
   "source": [
    "With the **shape()** function, nulls values in that colum can be counted. "
   ]
  },
  {
   "cell_type": "markdown",
   "metadata": {},
   "source": [
    "As the result obtain with the values using **info()** function in a step above, the function **Shape()** shows a total of 95 null objects."
   ]
  },
  {
   "cell_type": "markdown",
   "metadata": {},
   "source": [
    "It can be apply in any other column of the data frame"
   ]
  },
  {
   "cell_type": "code",
   "execution_count": 196,
   "metadata": {},
   "outputs": [],
   "source": [
    "containsNulls1 = df[df.Downtown.isna()] "
   ]
  },
  {
   "cell_type": "code",
   "execution_count": 197,
   "metadata": {},
   "outputs": [
    {
     "data": {
      "text/plain": [
       "96"
      ]
     },
     "execution_count": 197,
     "metadata": {},
     "output_type": "execute_result"
    }
   ],
   "source": [
    "containsNulls1.shape[0]"
   ]
  },
  {
   "cell_type": "markdown",
   "metadata": {},
   "source": [
    "In this part of the process, it is not necessary ubicate in the data frame the value of the null objects."
   ]
  },
  {
   "cell_type": "markdown",
   "metadata": {},
   "source": [
    "---"
   ]
  },
  {
   "cell_type": "markdown",
   "metadata": {},
   "source": [
    "## Writing data (output)"
   ]
  },
  {
   "cell_type": "markdown",
   "metadata": {},
   "source": [
    "Finally, using **to_csv** function the dataset checked and cleaned is written in format .csv"
   ]
  },
  {
   "cell_type": "code",
   "execution_count": 198,
   "metadata": {},
   "outputs": [],
   "source": [
    "df.to_csv('data/CensusLocalAreaProfiles2016_cleaned.csv')"
   ]
  }
 ],
 "metadata": {
  "kernelspec": {
   "display_name": "Python 3",
   "language": "python",
   "name": "python3"
  },
  "language_info": {
   "codemirror_mode": {
    "name": "ipython",
    "version": 3
   },
   "file_extension": ".py",
   "mimetype": "text/x-python",
   "name": "python",
   "nbconvert_exporter": "python",
   "pygments_lexer": "ipython3",
   "version": "3.7.4"
  }
 },
 "nbformat": 4,
 "nbformat_minor": 4
}
