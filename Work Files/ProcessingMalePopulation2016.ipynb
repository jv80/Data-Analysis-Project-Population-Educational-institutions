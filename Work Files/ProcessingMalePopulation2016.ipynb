{
 "cells": [
  {
   "cell_type": "markdown",
   "metadata": {
    "raw_mimetype": "text/markdown"
   },
   "source": [
    "# Processing Male Population\n",
    "\n"
   ]
  },
  {
   "cell_type": "markdown",
   "metadata": {},
   "source": [
    "## Reading data input"
   ]
  },
  {
   "cell_type": "markdown",
   "metadata": {},
   "source": [
    "Reading ouput of the data generate by ProcessingCensus2016.ipynb and creating a dataFrame **df**."
   ]
  },
  {
   "cell_type": "code",
   "execution_count": 28,
   "metadata": {},
   "outputs": [],
   "source": [
    "import numpy as np\n",
    "import pandas as pd\n",
    "import matplotlib.pyplot as plt\n",
    "import random\n",
    "df = pd.read_csv('data/CensusLocalAreaProfiles2016_cleaned.csv', encoding='ISO-8859-1')\n"
   ]
  },
  {
   "cell_type": "markdown",
   "metadata": {},
   "source": [
    "---"
   ]
  },
  {
   "cell_type": "markdown",
   "metadata": {},
   "source": [
    "## Selecting data of interest and creating a new dataFrame **df1** (male population)"
   ]
  },
  {
   "cell_type": "markdown",
   "metadata": {},
   "source": [
    "Selecting rows 30 to 33 and columns 0 to 24 (male population between 5 years old and 19 years old data set) by calling iloc function in the data frame created. "
   ]
  },
  {
   "cell_type": "code",
   "execution_count": 29,
   "metadata": {},
   "outputs": [],
   "source": [
    "df1 = df.iloc[29:33, 0:24]"
   ]
  },
  {
   "cell_type": "code",
   "execution_count": 30,
   "metadata": {},
   "outputs": [],
   "source": [
    "df1.to_csv('data/df11.csv')"
   ]
  },
  {
   "cell_type": "markdown",
   "metadata": {},
   "source": [
    "---"
   ]
  },
  {
   "cell_type": "markdown",
   "metadata": {},
   "source": [
    "## Checking the dimensions of the new dataFrame **df1**"
   ]
  },
  {
   "cell_type": "code",
   "execution_count": 31,
   "metadata": {},
   "outputs": [
    {
     "data": {
      "text/plain": [
       "(4, 24)"
      ]
     },
     "execution_count": 31,
     "metadata": {},
     "output_type": "execute_result"
    }
   ],
   "source": [
    "df1.shape"
   ]
  },
  {
   "cell_type": "code",
   "execution_count": 32,
   "metadata": {},
   "outputs": [],
   "source": [
    "df1.to_csv('data/df1.csv')"
   ]
  },
  {
   "cell_type": "markdown",
   "metadata": {},
   "source": [
    "**df1** has 4 rows and 24 columns."
   ]
  },
  {
   "cell_type": "markdown",
   "metadata": {},
   "source": [
    "---"
   ]
  },
  {
   "cell_type": "markdown",
   "metadata": {},
   "source": [
    "## Checking the apperance of the new dataFrame created"
   ]
  },
  {
   "cell_type": "code",
   "execution_count": 33,
   "metadata": {},
   "outputs": [
    {
     "data": {
      "text/html": [
       "<div>\n",
       "<style scoped>\n",
       "    .dataframe tbody tr th:only-of-type {\n",
       "        vertical-align: middle;\n",
       "    }\n",
       "\n",
       "    .dataframe tbody tr th {\n",
       "        vertical-align: top;\n",
       "    }\n",
       "\n",
       "    .dataframe thead th {\n",
       "        text-align: right;\n",
       "    }\n",
       "</style>\n",
       "<table border=\"1\" class=\"dataframe\">\n",
       "  <thead>\n",
       "    <tr style=\"text-align: right;\">\n",
       "      <th></th>\n",
       "      <th>ID</th>\n",
       "      <th>Variable</th>\n",
       "      <th>Arbutus-Ridge</th>\n",
       "      <th>Downtown</th>\n",
       "      <th>Dunbar-Southlands</th>\n",
       "      <th>Fairview</th>\n",
       "      <th>Grandview-Woodland</th>\n",
       "      <th>Hastings-Sunrise</th>\n",
       "      <th>Kensington-Cedar Cottage</th>\n",
       "      <th>Kerrisdale</th>\n",
       "      <th>...</th>\n",
       "      <th>Oakridge</th>\n",
       "      <th>Renfrew-Collingwood</th>\n",
       "      <th>Riley Park</th>\n",
       "      <th>Shaughnessy</th>\n",
       "      <th>South Cambie</th>\n",
       "      <th>Strathcona</th>\n",
       "      <th>Sunset</th>\n",
       "      <th>Victoria-Fraserview</th>\n",
       "      <th>West End</th>\n",
       "      <th>West Point Grey</th>\n",
       "    </tr>\n",
       "  </thead>\n",
       "  <tbody>\n",
       "    <tr>\n",
       "      <td>29</td>\n",
       "      <td>30</td>\n",
       "      <td>5 to 9 years</td>\n",
       "      <td>345</td>\n",
       "      <td>575</td>\n",
       "      <td>645</td>\n",
       "      <td>405</td>\n",
       "      <td>530</td>\n",
       "      <td>780</td>\n",
       "      <td>1240</td>\n",
       "      <td>285</td>\n",
       "      <td>...</td>\n",
       "      <td>250</td>\n",
       "      <td>1080</td>\n",
       "      <td>585</td>\n",
       "      <td>195</td>\n",
       "      <td>195</td>\n",
       "      <td>175</td>\n",
       "      <td>915</td>\n",
       "      <td>640</td>\n",
       "      <td>280</td>\n",
       "      <td>335</td>\n",
       "    </tr>\n",
       "    <tr>\n",
       "      <td>30</td>\n",
       "      <td>31</td>\n",
       "      <td>10 to 14 years</td>\n",
       "      <td>475</td>\n",
       "      <td>425</td>\n",
       "      <td>840</td>\n",
       "      <td>280</td>\n",
       "      <td>470</td>\n",
       "      <td>785</td>\n",
       "      <td>1100</td>\n",
       "      <td>440</td>\n",
       "      <td>...</td>\n",
       "      <td>315</td>\n",
       "      <td>1110</td>\n",
       "      <td>565</td>\n",
       "      <td>250</td>\n",
       "      <td>200</td>\n",
       "      <td>170</td>\n",
       "      <td>1075</td>\n",
       "      <td>760</td>\n",
       "      <td>215</td>\n",
       "      <td>400</td>\n",
       "    </tr>\n",
       "    <tr>\n",
       "      <td>31</td>\n",
       "      <td>32</td>\n",
       "      <td>15 to 64 years</td>\n",
       "      <td>4460</td>\n",
       "      <td>27465</td>\n",
       "      <td>6790</td>\n",
       "      <td>11430</td>\n",
       "      <td>10985</td>\n",
       "      <td>11815</td>\n",
       "      <td>17260</td>\n",
       "      <td>4315</td>\n",
       "      <td>...</td>\n",
       "      <td>3930</td>\n",
       "      <td>18360</td>\n",
       "      <td>7545</td>\n",
       "      <td>2510</td>\n",
       "      <td>2600</td>\n",
       "      <td>4910</td>\n",
       "      <td>12520</td>\n",
       "      <td>10120</td>\n",
       "      <td>20300</td>\n",
       "      <td>4065</td>\n",
       "    </tr>\n",
       "    <tr>\n",
       "      <td>32</td>\n",
       "      <td>33</td>\n",
       "      <td>15 to 19 years</td>\n",
       "      <td>650</td>\n",
       "      <td>605</td>\n",
       "      <td>930</td>\n",
       "      <td>300</td>\n",
       "      <td>435</td>\n",
       "      <td>890</td>\n",
       "      <td>1340</td>\n",
       "      <td>535</td>\n",
       "      <td>...</td>\n",
       "      <td>415</td>\n",
       "      <td>1455</td>\n",
       "      <td>545</td>\n",
       "      <td>290</td>\n",
       "      <td>195</td>\n",
       "      <td>195</td>\n",
       "      <td>1295</td>\n",
       "      <td>955</td>\n",
       "      <td>285</td>\n",
       "      <td>465</td>\n",
       "    </tr>\n",
       "  </tbody>\n",
       "</table>\n",
       "<p>4 rows × 24 columns</p>\n",
       "</div>"
      ],
      "text/plain": [
       "    ID              Variable Arbutus-Ridge Downtown Dunbar-Southlands  \\\n",
       "29  30          5 to 9 years           345      575               645   \n",
       "30  31        10 to 14 years           475      425               840   \n",
       "31  32        15 to 64 years          4460    27465              6790   \n",
       "32  33        15 to 19 years           650      605               930   \n",
       "\n",
       "   Fairview Grandview-Woodland Hastings-Sunrise Kensington-Cedar Cottage  \\\n",
       "29      405                530              780                     1240   \n",
       "30      280                470              785                     1100   \n",
       "31    11430              10985            11815                    17260   \n",
       "32      300                435              890                     1340   \n",
       "\n",
       "   Kerrisdale  ... Oakridge Renfrew-Collingwood Riley Park Shaughnessy  \\\n",
       "29        285  ...      250                1080        585         195   \n",
       "30        440  ...      315                1110        565         250   \n",
       "31       4315  ...     3930               18360       7545        2510   \n",
       "32        535  ...      415                1455        545         290   \n",
       "\n",
       "   South Cambie Strathcona Sunset Victoria-Fraserview West End West Point Grey  \n",
       "29          195        175    915                 640      280             335  \n",
       "30          200        170   1075                 760      215             400  \n",
       "31         2600       4910  12520               10120    20300            4065  \n",
       "32          195        195   1295                 955      285             465  \n",
       "\n",
       "[4 rows x 24 columns]"
      ]
     },
     "execution_count": 33,
     "metadata": {},
     "output_type": "execute_result"
    }
   ],
   "source": [
    "df1.head()"
   ]
  },
  {
   "cell_type": "markdown",
   "metadata": {},
   "source": [
    "Analyzing the dataFrame **df1** above, it can be seen that the row with **Variable** \"15 to 64 years\" shows information repeated. The row should be deleted."
   ]
  },
  {
   "cell_type": "markdown",
   "metadata": {},
   "source": [
    "---"
   ]
  },
  {
   "cell_type": "markdown",
   "metadata": {},
   "source": [
    "## Creating a new dataFrame **df2** without rows and columns not needed."
   ]
  },
  {
   "cell_type": "markdown",
   "metadata": {},
   "source": [
    "Deleting row with **Variable** \"15 to 64 years\" and column ID."
   ]
  },
  {
   "cell_type": "code",
   "execution_count": 34,
   "metadata": {},
   "outputs": [],
   "source": [
    "df2 = df1.drop(index=31, columns='ID')"
   ]
  },
  {
   "cell_type": "code",
   "execution_count": 35,
   "metadata": {},
   "outputs": [
    {
     "data": {
      "text/html": [
       "<div>\n",
       "<style scoped>\n",
       "    .dataframe tbody tr th:only-of-type {\n",
       "        vertical-align: middle;\n",
       "    }\n",
       "\n",
       "    .dataframe tbody tr th {\n",
       "        vertical-align: top;\n",
       "    }\n",
       "\n",
       "    .dataframe thead th {\n",
       "        text-align: right;\n",
       "    }\n",
       "</style>\n",
       "<table border=\"1\" class=\"dataframe\">\n",
       "  <thead>\n",
       "    <tr style=\"text-align: right;\">\n",
       "      <th></th>\n",
       "      <th>Variable</th>\n",
       "      <th>Arbutus-Ridge</th>\n",
       "      <th>Downtown</th>\n",
       "      <th>Dunbar-Southlands</th>\n",
       "      <th>Fairview</th>\n",
       "      <th>Grandview-Woodland</th>\n",
       "      <th>Hastings-Sunrise</th>\n",
       "      <th>Kensington-Cedar Cottage</th>\n",
       "      <th>Kerrisdale</th>\n",
       "      <th>Killarney</th>\n",
       "      <th>...</th>\n",
       "      <th>Oakridge</th>\n",
       "      <th>Renfrew-Collingwood</th>\n",
       "      <th>Riley Park</th>\n",
       "      <th>Shaughnessy</th>\n",
       "      <th>South Cambie</th>\n",
       "      <th>Strathcona</th>\n",
       "      <th>Sunset</th>\n",
       "      <th>Victoria-Fraserview</th>\n",
       "      <th>West End</th>\n",
       "      <th>West Point Grey</th>\n",
       "    </tr>\n",
       "  </thead>\n",
       "  <tbody>\n",
       "    <tr>\n",
       "      <td>29</td>\n",
       "      <td>5 to 9 years</td>\n",
       "      <td>345</td>\n",
       "      <td>575</td>\n",
       "      <td>645</td>\n",
       "      <td>405</td>\n",
       "      <td>530</td>\n",
       "      <td>780</td>\n",
       "      <td>1240</td>\n",
       "      <td>285</td>\n",
       "      <td>745</td>\n",
       "      <td>...</td>\n",
       "      <td>250</td>\n",
       "      <td>1080</td>\n",
       "      <td>585</td>\n",
       "      <td>195</td>\n",
       "      <td>195</td>\n",
       "      <td>175</td>\n",
       "      <td>915</td>\n",
       "      <td>640</td>\n",
       "      <td>280</td>\n",
       "      <td>335</td>\n",
       "    </tr>\n",
       "    <tr>\n",
       "      <td>30</td>\n",
       "      <td>10 to 14 years</td>\n",
       "      <td>475</td>\n",
       "      <td>425</td>\n",
       "      <td>840</td>\n",
       "      <td>280</td>\n",
       "      <td>470</td>\n",
       "      <td>785</td>\n",
       "      <td>1100</td>\n",
       "      <td>440</td>\n",
       "      <td>765</td>\n",
       "      <td>...</td>\n",
       "      <td>315</td>\n",
       "      <td>1110</td>\n",
       "      <td>565</td>\n",
       "      <td>250</td>\n",
       "      <td>200</td>\n",
       "      <td>170</td>\n",
       "      <td>1075</td>\n",
       "      <td>760</td>\n",
       "      <td>215</td>\n",
       "      <td>400</td>\n",
       "    </tr>\n",
       "    <tr>\n",
       "      <td>32</td>\n",
       "      <td>15 to 19 years</td>\n",
       "      <td>650</td>\n",
       "      <td>605</td>\n",
       "      <td>930</td>\n",
       "      <td>300</td>\n",
       "      <td>435</td>\n",
       "      <td>890</td>\n",
       "      <td>1340</td>\n",
       "      <td>535</td>\n",
       "      <td>900</td>\n",
       "      <td>...</td>\n",
       "      <td>415</td>\n",
       "      <td>1455</td>\n",
       "      <td>545</td>\n",
       "      <td>290</td>\n",
       "      <td>195</td>\n",
       "      <td>195</td>\n",
       "      <td>1295</td>\n",
       "      <td>955</td>\n",
       "      <td>285</td>\n",
       "      <td>465</td>\n",
       "    </tr>\n",
       "  </tbody>\n",
       "</table>\n",
       "<p>3 rows × 23 columns</p>\n",
       "</div>"
      ],
      "text/plain": [
       "                Variable Arbutus-Ridge Downtown Dunbar-Southlands Fairview  \\\n",
       "29          5 to 9 years           345      575               645      405   \n",
       "30        10 to 14 years           475      425               840      280   \n",
       "32        15 to 19 years           650      605               930      300   \n",
       "\n",
       "   Grandview-Woodland Hastings-Sunrise Kensington-Cedar Cottage Kerrisdale  \\\n",
       "29                530              780                     1240        285   \n",
       "30                470              785                     1100        440   \n",
       "32                435              890                     1340        535   \n",
       "\n",
       "   Killarney  ... Oakridge Renfrew-Collingwood Riley Park Shaughnessy  \\\n",
       "29       745  ...      250                1080        585         195   \n",
       "30       765  ...      315                1110        565         250   \n",
       "32       900  ...      415                1455        545         290   \n",
       "\n",
       "   South Cambie Strathcona Sunset Victoria-Fraserview West End West Point Grey  \n",
       "29          195        175    915                 640      280             335  \n",
       "30          200        170   1075                 760      215             400  \n",
       "32          195        195   1295                 955      285             465  \n",
       "\n",
       "[3 rows x 23 columns]"
      ]
     },
     "execution_count": 35,
     "metadata": {},
     "output_type": "execute_result"
    }
   ],
   "source": [
    "df2.head()"
   ]
  },
  {
   "cell_type": "markdown",
   "metadata": {},
   "source": [
    "---"
   ]
  },
  {
   "cell_type": "markdown",
   "metadata": {},
   "source": [
    "## Resetting index of rows  "
   ]
  },
  {
   "cell_type": "markdown",
   "metadata": {},
   "source": [
    "The new index gives again a sequential number in each row.  "
   ]
  },
  {
   "cell_type": "code",
   "execution_count": 36,
   "metadata": {},
   "outputs": [
    {
     "data": {
      "text/html": [
       "<div>\n",
       "<style scoped>\n",
       "    .dataframe tbody tr th:only-of-type {\n",
       "        vertical-align: middle;\n",
       "    }\n",
       "\n",
       "    .dataframe tbody tr th {\n",
       "        vertical-align: top;\n",
       "    }\n",
       "\n",
       "    .dataframe thead th {\n",
       "        text-align: right;\n",
       "    }\n",
       "</style>\n",
       "<table border=\"1\" class=\"dataframe\">\n",
       "  <thead>\n",
       "    <tr style=\"text-align: right;\">\n",
       "      <th></th>\n",
       "      <th>Variable</th>\n",
       "      <th>Arbutus-Ridge</th>\n",
       "      <th>Downtown</th>\n",
       "      <th>Dunbar-Southlands</th>\n",
       "      <th>Fairview</th>\n",
       "      <th>Grandview-Woodland</th>\n",
       "      <th>Hastings-Sunrise</th>\n",
       "      <th>Kensington-Cedar Cottage</th>\n",
       "      <th>Kerrisdale</th>\n",
       "      <th>Killarney</th>\n",
       "      <th>...</th>\n",
       "      <th>Oakridge</th>\n",
       "      <th>Renfrew-Collingwood</th>\n",
       "      <th>Riley Park</th>\n",
       "      <th>Shaughnessy</th>\n",
       "      <th>South Cambie</th>\n",
       "      <th>Strathcona</th>\n",
       "      <th>Sunset</th>\n",
       "      <th>Victoria-Fraserview</th>\n",
       "      <th>West End</th>\n",
       "      <th>West Point Grey</th>\n",
       "    </tr>\n",
       "  </thead>\n",
       "  <tbody>\n",
       "    <tr>\n",
       "      <td>0</td>\n",
       "      <td>5 to 9 years</td>\n",
       "      <td>345</td>\n",
       "      <td>575</td>\n",
       "      <td>645</td>\n",
       "      <td>405</td>\n",
       "      <td>530</td>\n",
       "      <td>780</td>\n",
       "      <td>1240</td>\n",
       "      <td>285</td>\n",
       "      <td>745</td>\n",
       "      <td>...</td>\n",
       "      <td>250</td>\n",
       "      <td>1080</td>\n",
       "      <td>585</td>\n",
       "      <td>195</td>\n",
       "      <td>195</td>\n",
       "      <td>175</td>\n",
       "      <td>915</td>\n",
       "      <td>640</td>\n",
       "      <td>280</td>\n",
       "      <td>335</td>\n",
       "    </tr>\n",
       "    <tr>\n",
       "      <td>1</td>\n",
       "      <td>10 to 14 years</td>\n",
       "      <td>475</td>\n",
       "      <td>425</td>\n",
       "      <td>840</td>\n",
       "      <td>280</td>\n",
       "      <td>470</td>\n",
       "      <td>785</td>\n",
       "      <td>1100</td>\n",
       "      <td>440</td>\n",
       "      <td>765</td>\n",
       "      <td>...</td>\n",
       "      <td>315</td>\n",
       "      <td>1110</td>\n",
       "      <td>565</td>\n",
       "      <td>250</td>\n",
       "      <td>200</td>\n",
       "      <td>170</td>\n",
       "      <td>1075</td>\n",
       "      <td>760</td>\n",
       "      <td>215</td>\n",
       "      <td>400</td>\n",
       "    </tr>\n",
       "    <tr>\n",
       "      <td>2</td>\n",
       "      <td>15 to 19 years</td>\n",
       "      <td>650</td>\n",
       "      <td>605</td>\n",
       "      <td>930</td>\n",
       "      <td>300</td>\n",
       "      <td>435</td>\n",
       "      <td>890</td>\n",
       "      <td>1340</td>\n",
       "      <td>535</td>\n",
       "      <td>900</td>\n",
       "      <td>...</td>\n",
       "      <td>415</td>\n",
       "      <td>1455</td>\n",
       "      <td>545</td>\n",
       "      <td>290</td>\n",
       "      <td>195</td>\n",
       "      <td>195</td>\n",
       "      <td>1295</td>\n",
       "      <td>955</td>\n",
       "      <td>285</td>\n",
       "      <td>465</td>\n",
       "    </tr>\n",
       "  </tbody>\n",
       "</table>\n",
       "<p>3 rows × 23 columns</p>\n",
       "</div>"
      ],
      "text/plain": [
       "               Variable Arbutus-Ridge Downtown Dunbar-Southlands Fairview  \\\n",
       "0          5 to 9 years           345      575               645      405   \n",
       "1        10 to 14 years           475      425               840      280   \n",
       "2        15 to 19 years           650      605               930      300   \n",
       "\n",
       "  Grandview-Woodland Hastings-Sunrise Kensington-Cedar Cottage Kerrisdale  \\\n",
       "0                530              780                     1240        285   \n",
       "1                470              785                     1100        440   \n",
       "2                435              890                     1340        535   \n",
       "\n",
       "  Killarney  ... Oakridge Renfrew-Collingwood Riley Park Shaughnessy  \\\n",
       "0       745  ...      250                1080        585         195   \n",
       "1       765  ...      315                1110        565         250   \n",
       "2       900  ...      415                1455        545         290   \n",
       "\n",
       "  South Cambie Strathcona Sunset Victoria-Fraserview West End West Point Grey  \n",
       "0          195        175    915                 640      280             335  \n",
       "1          200        170   1075                 760      215             400  \n",
       "2          195        195   1295                 955      285             465  \n",
       "\n",
       "[3 rows x 23 columns]"
      ]
     },
     "execution_count": 36,
     "metadata": {},
     "output_type": "execute_result"
    }
   ],
   "source": [
    "df2.reset_index(drop=True)"
   ]
  },
  {
   "cell_type": "markdown",
   "metadata": {},
   "source": [
    "---"
   ]
  },
  {
   "cell_type": "markdown",
   "metadata": {},
   "source": [
    "## Data set visual QC,to detect errors, missing values, anomalies,etc"
   ]
  },
  {
   "cell_type": "markdown",
   "metadata": {},
   "source": [
    "Plotting datasets requering numeric datatypes."
   ]
  },
  {
   "cell_type": "markdown",
   "metadata": {},
   "source": [
    "### Checking variable data types of **df2**"
   ]
  },
  {
   "cell_type": "code",
   "execution_count": 37,
   "metadata": {},
   "outputs": [
    {
     "name": "stdout",
     "output_type": "stream",
     "text": [
      "<class 'pandas.core.frame.DataFrame'>\n",
      "Int64Index: 3 entries, 29 to 32\n",
      "Data columns (total 23 columns):\n",
      "Variable                    3 non-null object\n",
      "Arbutus-Ridge               3 non-null object\n",
      "Downtown                    3 non-null object\n",
      "Dunbar-Southlands           3 non-null object\n",
      "Fairview                    3 non-null object\n",
      "Grandview-Woodland          3 non-null object\n",
      "Hastings-Sunrise            3 non-null object\n",
      "Kensington-Cedar Cottage    3 non-null object\n",
      "Kerrisdale                  3 non-null object\n",
      "Killarney                   3 non-null object\n",
      "Kitsilano                   3 non-null object\n",
      "Marpole                     3 non-null object\n",
      "Mount Pleasant              3 non-null object\n",
      "Oakridge                    3 non-null object\n",
      "Renfrew-Collingwood         3 non-null object\n",
      "Riley Park                  3 non-null object\n",
      "Shaughnessy                 3 non-null object\n",
      "South Cambie                3 non-null object\n",
      "Strathcona                  3 non-null object\n",
      "Sunset                      3 non-null object\n",
      "Victoria-Fraserview         3 non-null object\n",
      "West End                    3 non-null object\n",
      "West Point Grey             3 non-null object\n",
      "dtypes: object(23)\n",
      "memory usage: 576.0+ bytes\n"
     ]
    }
   ],
   "source": [
    "df2.info()"
   ]
  },
  {
   "cell_type": "markdown",
   "metadata": {},
   "source": [
    "To plot the dataset, numeric values should change data type from object to numeric with the following expression in each column:"
   ]
  },
  {
   "cell_type": "markdown",
   "metadata": {},
   "source": [
    "**df[\"column name\"] = pd.to_numeric(df[\"column name\"])**"
   ]
  },
  {
   "cell_type": "markdown",
   "metadata": {},
   "source": [
    "It could be repetitive and tedius if copy and paste manually each column name.Let's automatize this process:"
   ]
  },
  {
   "cell_type": "markdown",
   "metadata": {},
   "source": [
    "### changing data types"
   ]
  },
  {
   "cell_type": "markdown",
   "metadata": {},
   "source": [
    "**First step:** Identifying the columns"
   ]
  },
  {
   "cell_type": "code",
   "execution_count": 38,
   "metadata": {},
   "outputs": [
    {
     "data": {
      "text/plain": [
       "Index(['Variable', 'Arbutus-Ridge', 'Downtown', 'Dunbar-Southlands',\n",
       "       'Fairview', 'Grandview-Woodland', 'Hastings-Sunrise',\n",
       "       'Kensington-Cedar Cottage', 'Kerrisdale', 'Killarney', 'Kitsilano',\n",
       "       'Marpole', 'Mount Pleasant', 'Oakridge', 'Renfrew-Collingwood',\n",
       "       'Riley Park', 'Shaughnessy', 'South Cambie', 'Strathcona', 'Sunset',\n",
       "       'Victoria-Fraserview', 'West End', 'West Point Grey'],\n",
       "      dtype='object')"
      ]
     },
     "execution_count": 38,
     "metadata": {},
     "output_type": "execute_result"
    }
   ],
   "source": [
    "df2.columns"
   ]
  },
  {
   "cell_type": "markdown",
   "metadata": {},
   "source": [
    "**Second step:** Creating a column and a new dataFrame(df3) with all index of df2."
   ]
  },
  {
   "cell_type": "code",
   "execution_count": 39,
   "metadata": {},
   "outputs": [],
   "source": [
    "df3 = pd.DataFrame({'zones':['Arbutus-Ridge', 'Downtown', 'Dunbar-Southlands',\n",
    "       'Fairview', 'Grandview-Woodland', 'Hastings-Sunrise',\n",
    "       'Kensington-Cedar Cottage', 'Kerrisdale', 'Killarney', 'Kitsilano',\n",
    "       'Marpole', 'Mount Pleasant', 'Oakridge', 'Renfrew-Collingwood',\n",
    "       'Riley Park', 'Shaughnessy', 'South Cambie', 'Strathcona', 'Sunset',\n",
    "       'Victoria-Fraserview', 'West End', 'West Point Grey']}) "
   ]
  },
  {
   "cell_type": "code",
   "execution_count": 40,
   "metadata": {},
   "outputs": [
    {
     "data": {
      "text/html": [
       "<div>\n",
       "<style scoped>\n",
       "    .dataframe tbody tr th:only-of-type {\n",
       "        vertical-align: middle;\n",
       "    }\n",
       "\n",
       "    .dataframe tbody tr th {\n",
       "        vertical-align: top;\n",
       "    }\n",
       "\n",
       "    .dataframe thead th {\n",
       "        text-align: right;\n",
       "    }\n",
       "</style>\n",
       "<table border=\"1\" class=\"dataframe\">\n",
       "  <thead>\n",
       "    <tr style=\"text-align: right;\">\n",
       "      <th></th>\n",
       "      <th>zones</th>\n",
       "    </tr>\n",
       "  </thead>\n",
       "  <tbody>\n",
       "    <tr>\n",
       "      <td>0</td>\n",
       "      <td>Arbutus-Ridge</td>\n",
       "    </tr>\n",
       "    <tr>\n",
       "      <td>1</td>\n",
       "      <td>Downtown</td>\n",
       "    </tr>\n",
       "    <tr>\n",
       "      <td>2</td>\n",
       "      <td>Dunbar-Southlands</td>\n",
       "    </tr>\n",
       "    <tr>\n",
       "      <td>3</td>\n",
       "      <td>Fairview</td>\n",
       "    </tr>\n",
       "    <tr>\n",
       "      <td>4</td>\n",
       "      <td>Grandview-Woodland</td>\n",
       "    </tr>\n",
       "  </tbody>\n",
       "</table>\n",
       "</div>"
      ],
      "text/plain": [
       "                zones\n",
       "0       Arbutus-Ridge\n",
       "1            Downtown\n",
       "2   Dunbar-Southlands\n",
       "3            Fairview\n",
       "4  Grandview-Woodland"
      ]
     },
     "execution_count": 40,
     "metadata": {},
     "output_type": "execute_result"
    }
   ],
   "source": [
    "df3.head()"
   ]
  },
  {
   "cell_type": "markdown",
   "metadata": {},
   "source": [
    "**Third step:** With a for loop, let's change the datatype to numeric for each zone."
   ]
  },
  {
   "cell_type": "code",
   "execution_count": 41,
   "metadata": {},
   "outputs": [],
   "source": [
    "for index, row in df3.iterrows():\n",
    "    df2[row[\"zones\"]] = pd.to_numeric(df2[row[\"zones\"]])"
   ]
  },
  {
   "cell_type": "code",
   "execution_count": 42,
   "metadata": {},
   "outputs": [
    {
     "name": "stdout",
     "output_type": "stream",
     "text": [
      "<class 'pandas.core.frame.DataFrame'>\n",
      "Int64Index: 3 entries, 29 to 32\n",
      "Data columns (total 23 columns):\n",
      "Variable                    3 non-null object\n",
      "Arbutus-Ridge               3 non-null int64\n",
      "Downtown                    3 non-null int64\n",
      "Dunbar-Southlands           3 non-null int64\n",
      "Fairview                    3 non-null int64\n",
      "Grandview-Woodland          3 non-null int64\n",
      "Hastings-Sunrise            3 non-null int64\n",
      "Kensington-Cedar Cottage    3 non-null int64\n",
      "Kerrisdale                  3 non-null int64\n",
      "Killarney                   3 non-null int64\n",
      "Kitsilano                   3 non-null int64\n",
      "Marpole                     3 non-null int64\n",
      "Mount Pleasant              3 non-null int64\n",
      "Oakridge                    3 non-null int64\n",
      "Renfrew-Collingwood         3 non-null int64\n",
      "Riley Park                  3 non-null int64\n",
      "Shaughnessy                 3 non-null int64\n",
      "South Cambie                3 non-null int64\n",
      "Strathcona                  3 non-null int64\n",
      "Sunset                      3 non-null int64\n",
      "Victoria-Fraserview         3 non-null int64\n",
      "West End                    3 non-null int64\n",
      "West Point Grey             3 non-null int64\n",
      "dtypes: int64(22), object(1)\n",
      "memory usage: 576.0+ bytes\n"
     ]
    }
   ],
   "source": [
    "df2.info()"
   ]
  },
  {
   "cell_type": "markdown",
   "metadata": {},
   "source": [
    "Now, all columns in the dataFrame df2(Exept the column **Variable**) have numeric dataType"
   ]
  },
  {
   "cell_type": "markdown",
   "metadata": {},
   "source": [
    "### Plotting "
   ]
  },
  {
   "cell_type": "markdown",
   "metadata": {},
   "source": [
    "The following expression it will be used to plot each range of male population in each planning zone. "
   ]
  },
  {
   "cell_type": "markdown",
   "metadata": {},
   "source": [
    "**df2.plot(kind='bar',x='Variable',y='zones',color='green')\n",
    "plt.show()**"
   ]
  },
  {
   "cell_type": "markdown",
   "metadata": {},
   "source": [
    "With a for loop, let's plot in bar graphs of the male population data. "
   ]
  },
  {
   "cell_type": "code",
   "execution_count": 43,
   "metadata": {},
   "outputs": [
    {
     "data": {
      "image/png": "[encoded data removed]",
      "text/plain": [
       "<Figure size 432x288 with 1 Axes>"
      ]
     },
     "metadata": {
      "needs_background": "light"
     },
     "output_type": "display_data"
    },
    {
     "data": {
      "image/png": "[encoded data removed]",
      "text/plain": [
       "<Figure size 432x288 with 1 Axes>"
      ]
     },
     "metadata": {
      "needs_background": "light"
     },
     "output_type": "display_data"
    },
    {
     "data": {
      "image/png": "[encoded data removed]",
      "text/plain": [
       "<Figure size 432x288 with 1 Axes>"
      ]
     },
     "metadata": {
      "needs_background": "light"
     },
     "output_type": "display_data"
    },
    {
     "data": {
      "image/png": "[encoded data removed]",
      "text/plain": [
       "<Figure size 432x288 with 1 Axes>"
      ]
     },
     "metadata": {
      "needs_background": "light"
     },
     "output_type": "display_data"
    },
    {
     "data": {
      "image/png": "[encoded data removed]",
      "text/plain": [
       "<Figure size 432x288 with 1 Axes>"
      ]
     },
     "metadata": {
      "needs_background": "light"
     },
     "output_type": "display_data"
    },
    {
     "data": {
      "image/png": "[encoded data removed]",
      "text/plain": [
       "<Figure size 432x288 with 1 Axes>"
      ]
     },
     "metadata": {
      "needs_background": "light"
     },
     "output_type": "display_data"
    },
    {
     "data": {
      "image/png": "[encoded data removed]",
      "text/plain": [
       "<Figure size 432x288 with 1 Axes>"
      ]
     },
     "metadata": {
      "needs_background": "light"
     },
     "output_type": "display_data"
    },
    {
     "data": {
      "image/png": "[encoded data removed]",
      "text/plain": [
       "<Figure size 432x288 with 1 Axes>"
      ]
     },
     "metadata": {
      "needs_background": "light"
     },
     "output_type": "display_data"
    },
    {
     "data": {
      "image/png": "[encoded data removed]",
      "text/plain": [
       "<Figure size 432x288 with 1 Axes>"
      ]
     },
     "metadata": {
      "needs_background": "light"
     },
     "output_type": "display_data"
    },
    {
     "data": {
      "image/png": "[encoded data removed]",
      "text/plain": [
       "<Figure size 432x288 with 1 Axes>"
      ]
     },
     "metadata": {
      "needs_background": "light"
     },
     "output_type": "display_data"
    },
    {
     "data": {
      "image/png": "[encoded data removed]",
      "text/plain": [
       "<Figure size 432x288 with 1 Axes>"
      ]
     },
     "metadata": {
      "needs_background": "light"
     },
     "output_type": "display_data"
    },
    {
     "data": {
      "image/png": "[encoded data removed]",
      "text/plain": [
       "<Figure size 432x288 with 1 Axes>"
      ]
     },
     "metadata": {
      "needs_background": "light"
     },
     "output_type": "display_data"
    },
    {
     "data": {
      "image/png": "[encoded data removed]",
      "text/plain": [
       "<Figure size 432x288 with 1 Axes>"
      ]
     },
     "metadata": {
      "needs_background": "light"
     },
     "output_type": "display_data"
    },
    {
     "data": {
      "image/png": "[encoded data removed]",
      "text/plain": [
       "<Figure size 432x288 with 1 Axes>"
      ]
     },
     "metadata": {
      "needs_background": "light"
     },
     "output_type": "display_data"
    },
    {
     "data": {
      "image/png": "[encoded data removed]",
      "text/plain": [
       "<Figure size 432x288 with 1 Axes>"
      ]
     },
     "metadata": {
      "needs_background": "light"
     },
     "output_type": "display_data"
    },
    {
     "data": {
      "image/png": "[encoded data removed]",
      "text/plain": [
       "<Figure size 432x288 with 1 Axes>"
      ]
     },
     "metadata": {
      "needs_background": "light"
     },
     "output_type": "display_data"
    },
    {
     "data": {
      "image/png": "[encoded data removed]",
      "text/plain": [
       "<Figure size 432x288 with 1 Axes>"
      ]
     },
     "metadata": {
      "needs_background": "light"
     },
     "output_type": "display_data"
    },
    {
     "data": {
      "image/png": "[encoded data removed]",
      "text/plain": [
       "<Figure size 432x288 with 1 Axes>"
      ]
     },
     "metadata": {
      "needs_background": "light"
     },
     "output_type": "display_data"
    },
    {
     "data": {
      "image/png": "[encoded data removed]",
      "text/plain": [
       "<Figure size 432x288 with 1 Axes>"
      ]
     },
     "metadata": {
      "needs_background": "light"
     },
     "output_type": "display_data"
    },
    {
     "data": {
      "image/png": "[encoded data removed]",
      "text/plain": [
       "<Figure size 432x288 with 1 Axes>"
      ]
     },
     "metadata": {
      "needs_background": "light"
     },
     "output_type": "display_data"
    },
    {
     "data": {
      "image/png": "[encoded data removed]",
      "text/plain": [
       "<Figure size 432x288 with 1 Axes>"
      ]
     },
     "metadata": {
      "needs_background": "light"
     },
     "output_type": "display_data"
    },
    {
     "data": {
      "image/png": "[encoded data removed]",
      "text/plain": [
       "<Figure size 432x288 with 1 Axes>"
      ]
     },
     "metadata": {
      "needs_background": "light"
     },
     "output_type": "display_data"
    }
   ],
   "source": [
    "for index, row in df3.iterrows():\n",
    "    df2.plot(kind='bar',x='Variable',y=row[\"zones\"],color=(round(random.uniform(0,1),1),round(random.uniform(0,1),1),round(random.uniform(0,1),1)))\n",
    "    plt.show()"
   ]
  },
  {
   "cell_type": "markdown",
   "metadata": {},
   "source": [
    "## Data conditioning to be included in a shapefile"
   ]
  },
  {
   "cell_type": "markdown",
   "metadata": {},
   "source": [
    "To visualize the male population in the final map, this dataFrame df2 will be included in a shapefile."
   ]
  },
  {
   "cell_type": "markdown",
   "metadata": {},
   "source": [
    "**First step:** Transpose dataframe df2"
   ]
  },
  {
   "cell_type": "code",
   "execution_count": 44,
   "metadata": {},
   "outputs": [
    {
     "data": {
      "text/plain": [
       "Index(['Variable', 'Arbutus-Ridge', 'Downtown', 'Dunbar-Southlands',\n",
       "       'Fairview', 'Grandview-Woodland', 'Hastings-Sunrise',\n",
       "       'Kensington-Cedar Cottage', 'Kerrisdale', 'Killarney', 'Kitsilano',\n",
       "       'Marpole', 'Mount Pleasant', 'Oakridge', 'Renfrew-Collingwood',\n",
       "       'Riley Park', 'Shaughnessy', 'South Cambie', 'Strathcona', 'Sunset',\n",
       "       'Victoria-Fraserview', 'West End', 'West Point Grey'],\n",
       "      dtype='object')"
      ]
     },
     "execution_count": 44,
     "metadata": {},
     "output_type": "execute_result"
    }
   ],
   "source": [
    "df2.columns"
   ]
  },
  {
   "cell_type": "code",
   "execution_count": 45,
   "metadata": {},
   "outputs": [],
   "source": [
    "df2_transpose = df2.T"
   ]
  },
  {
   "cell_type": "markdown",
   "metadata": {},
   "source": [
    "**Second step:** Reset index."
   ]
  },
  {
   "cell_type": "code",
   "execution_count": 46,
   "metadata": {},
   "outputs": [],
   "source": [
    "new_index = ['Sunset', 'Mount Pleasant', 'Riley Park', 'Downtown','Kitsilano', 'Dunbar-Southlands', 'Kerrisdale', 'Arbutus-Ridge', \n",
    "             'West Point Grey', 'Marpole', 'Oakridge', 'Shaughnessy', 'Fairview', 'South Cambie', 'West End', 'Killarney', 'Renfrew-Collingwood',\n",
    "             'Hastings-Sunrise', 'Victoria-Fraserview', 'Kensington-Cedar Cottage', 'Strathcona', 'Grandview-Woodland'\n",
    "             ]"
   ]
  },
  {
   "cell_type": "code",
   "execution_count": 47,
   "metadata": {},
   "outputs": [],
   "source": [
    "df4 = df2_transpose.reindex(new_index)"
   ]
  },
  {
   "cell_type": "code",
   "execution_count": 50,
   "metadata": {},
   "outputs": [],
   "source": [
    "df4.to_csv('data/df4.csv')"
   ]
  },
  {
   "cell_type": "markdown",
   "metadata": {},
   "source": [
    "**Third step:** Rename columns name."
   ]
  },
  {
   "cell_type": "code",
   "execution_count": 51,
   "metadata": {},
   "outputs": [],
   "source": [
    "df5 = df4.rename(columns={29: \"5 to 9 years\", 30 : \"10 to 14 years\", 32 : \"15 to 19 years\"})"
   ]
  },
  {
   "cell_type": "markdown",
   "metadata": {},
   "source": [
    "## Writing data (output)"
   ]
  },
  {
   "cell_type": "code",
   "execution_count": 52,
   "metadata": {},
   "outputs": [],
   "source": [
    "df5.to_csv('data/MalePopulationDataset_cleaned.csv')"
   ]
  }
 ],
 "metadata": {
  "kernelspec": {
   "display_name": "Python 3",
   "language": "python",
   "name": "python3"
  },
  "language_info": {
   "codemirror_mode": {
    "name": "ipython",
    "version": 3
   },
   "file_extension": ".py",
   "mimetype": "text/x-python",
   "name": "python",
   "nbconvert_exporter": "python",
   "pygments_lexer": "ipython3",
   "version": "3.7.4"
  }
 },
 "nbformat": 4,
 "nbformat_minor": 4
}
