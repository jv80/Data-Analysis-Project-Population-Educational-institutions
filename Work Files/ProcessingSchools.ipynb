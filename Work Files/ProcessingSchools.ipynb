{
 "cells": [
  {
   "cell_type": "markdown",
   "metadata": {},
   "source": [
    "# Processing Schools"
   ]
  },
  {
   "cell_type": "code",
   "execution_count": 1,
   "metadata": {},
   "outputs": [],
   "source": [
    "import numpy as np\n",
    "import pandas as pd"
   ]
  },
  {
   "cell_type": "markdown",
   "metadata": {},
   "source": [
    "## Reading data Input"
   ]
  },
  {
   "cell_type": "markdown",
   "metadata": {},
   "source": [
    "The data file **schools.csv** file is reading using **pd.read_csv** function. The data format used in this file is separated by semicolon, so  it is conbinient use  the **sep=';'** parameter. "
   ]
  },
  {
   "cell_type": "code",
   "execution_count": 2,
   "metadata": {},
   "outputs": [],
   "source": [
    "df = pd.read_csv('data/schools.csv',sep=';')"
   ]
  },
  {
   "cell_type": "markdown",
   "metadata": {},
   "source": [
    "---"
   ]
  },
  {
   "cell_type": "markdown",
   "metadata": {},
   "source": [
    "## Determining if dataframe is empty or existence of data"
   ]
  },
  {
   "cell_type": "code",
   "execution_count": 3,
   "metadata": {},
   "outputs": [
    {
     "data": {
      "text/plain": [
       "False"
      ]
     },
     "execution_count": 3,
     "metadata": {},
     "output_type": "execute_result"
    }
   ],
   "source": [
    "df.empty"
   ]
  },
  {
   "cell_type": "markdown",
   "metadata": {},
   "source": [
    "---"
   ]
  },
  {
   "cell_type": "markdown",
   "metadata": {},
   "source": [
    "## Finding dimensions of the dataFrame"
   ]
  },
  {
   "cell_type": "code",
   "execution_count": 4,
   "metadata": {},
   "outputs": [
    {
     "data": {
      "text/plain": [
       "(194, 5)"
      ]
     },
     "execution_count": 4,
     "metadata": {},
     "output_type": "execute_result"
    }
   ],
   "source": [
    "df.shape"
   ]
  },
  {
   "cell_type": "markdown",
   "metadata": {},
   "source": [
    "---"
   ]
  },
  {
   "cell_type": "markdown",
   "metadata": {},
   "source": [
    "## Size of the File schools.csv"
   ]
  },
  {
   "cell_type": "markdown",
   "metadata": {},
   "source": [
    "!dir data\\schools.csv"
   ]
  },
  {
   "cell_type": "markdown",
   "metadata": {},
   "source": [
    "---"
   ]
  },
  {
   "cell_type": "markdown",
   "metadata": {},
   "source": [
    "## Visualization of the dataframe"
   ]
  },
  {
   "cell_type": "code",
   "execution_count": 5,
   "metadata": {},
   "outputs": [
    {
     "data": {
      "text/html": [
       "<div>\n",
       "<style scoped>\n",
       "    .dataframe tbody tr th:only-of-type {\n",
       "        vertical-align: middle;\n",
       "    }\n",
       "\n",
       "    .dataframe tbody tr th {\n",
       "        vertical-align: top;\n",
       "    }\n",
       "\n",
       "    .dataframe thead th {\n",
       "        text-align: right;\n",
       "    }\n",
       "</style>\n",
       "<table border=\"1\" class=\"dataframe\">\n",
       "  <thead>\n",
       "    <tr style=\"text-align: right;\">\n",
       "      <th></th>\n",
       "      <th>ADDRESS</th>\n",
       "      <th>SCHOOL_CATEGORY</th>\n",
       "      <th>SCHOOL_NAME</th>\n",
       "      <th>Geom</th>\n",
       "      <th>Geo Local Area</th>\n",
       "    </tr>\n",
       "  </thead>\n",
       "  <tbody>\n",
       "    <tr>\n",
       "      <td>0</td>\n",
       "      <td>1130 Keefer St</td>\n",
       "      <td>StrongStart BC</td>\n",
       "      <td>Admiral Seymour StrongStart Centre</td>\n",
       "      <td>{\"type\": \"Point\", \"coordinates\": [-123.0803142...</td>\n",
       "      <td>Strathcona</td>\n",
       "    </tr>\n",
       "    <tr>\n",
       "      <td>1</td>\n",
       "      <td>5025 Willow St</td>\n",
       "      <td>Public School</td>\n",
       "      <td>BC Childrens Hosp School Program</td>\n",
       "      <td>{\"type\": \"Point\", \"coordinates\": [-123.1257909...</td>\n",
       "      <td>South Cambie</td>\n",
       "    </tr>\n",
       "    <tr>\n",
       "      <td>2</td>\n",
       "      <td>2251 Collingwood St</td>\n",
       "      <td>Public School</td>\n",
       "      <td>Bayview Community Elementary</td>\n",
       "      <td>{\"type\": \"Point\", \"coordinates\": [-123.1823337...</td>\n",
       "      <td>Kitsilano</td>\n",
       "    </tr>\n",
       "    <tr>\n",
       "      <td>3</td>\n",
       "      <td>1690 Matthews Av</td>\n",
       "      <td>Public School</td>\n",
       "      <td>Canuck Place School Program</td>\n",
       "      <td>{\"type\": \"Point\", \"coordinates\": [-123.1430623...</td>\n",
       "      <td>Shaughnessy</td>\n",
       "    </tr>\n",
       "    <tr>\n",
       "      <td>4</td>\n",
       "      <td>3400 Balaclava St</td>\n",
       "      <td>Public School</td>\n",
       "      <td>Carnarvon Community Elementary</td>\n",
       "      <td>{\"type\": \"Point\", \"coordinates\": [-123.1735572...</td>\n",
       "      <td>Arbutus-Ridge</td>\n",
       "    </tr>\n",
       "  </tbody>\n",
       "</table>\n",
       "</div>"
      ],
      "text/plain": [
       "               ADDRESS SCHOOL_CATEGORY                         SCHOOL_NAME  \\\n",
       "0       1130 Keefer St  StrongStart BC  Admiral Seymour StrongStart Centre   \n",
       "1       5025 Willow St   Public School    BC Childrens Hosp School Program   \n",
       "2  2251 Collingwood St   Public School        Bayview Community Elementary   \n",
       "3     1690 Matthews Av   Public School         Canuck Place School Program   \n",
       "4    3400 Balaclava St   Public School      Carnarvon Community Elementary   \n",
       "\n",
       "                                                Geom Geo Local Area  \n",
       "0  {\"type\": \"Point\", \"coordinates\": [-123.0803142...     Strathcona  \n",
       "1  {\"type\": \"Point\", \"coordinates\": [-123.1257909...   South Cambie  \n",
       "2  {\"type\": \"Point\", \"coordinates\": [-123.1823337...      Kitsilano  \n",
       "3  {\"type\": \"Point\", \"coordinates\": [-123.1430623...    Shaughnessy  \n",
       "4  {\"type\": \"Point\", \"coordinates\": [-123.1735572...  Arbutus-Ridge  "
      ]
     },
     "execution_count": 5,
     "metadata": {},
     "output_type": "execute_result"
    }
   ],
   "source": [
    "df.head()"
   ]
  },
  {
   "cell_type": "markdown",
   "metadata": {},
   "source": [
    "The dataFrame has five columns: **ADDRESS** , **SCHOOL_CATEGORY** , **SCHOOL_NAME** , **Geom** and **Geo Local Area**.The  **Geo** column is in GeoJSON format and is the geometry of this geodataframe."
   ]
  },
  {
   "cell_type": "code",
   "execution_count": 6,
   "metadata": {},
   "outputs": [
    {
     "data": {
      "text/plain": [
       "Index(['ADDRESS', 'SCHOOL_CATEGORY', 'SCHOOL_NAME', 'Geom', 'Geo Local Area'], dtype='object')"
      ]
     },
     "execution_count": 6,
     "metadata": {},
     "output_type": "execute_result"
    }
   ],
   "source": [
    "df.columns"
   ]
  },
  {
   "cell_type": "markdown",
   "metadata": {},
   "source": [
    "---"
   ]
  },
  {
   "cell_type": "markdown",
   "metadata": {},
   "source": [
    "## Checking range of coordenates."
   ]
  },
  {
   "cell_type": "markdown",
   "metadata": {},
   "source": [
    "The latitude of Vancouver, BC is between 49.200110 and 49.317296, and the longitude is between -123.264451 and -123.023551."
   ]
  },
  {
   "cell_type": "code",
   "execution_count": 7,
   "metadata": {},
   "outputs": [],
   "source": [
    "df2 = df['Geom']"
   ]
  },
  {
   "cell_type": "code",
   "execution_count": 8,
   "metadata": {},
   "outputs": [],
   "source": [
    "df2.to_csv('data/Schools_cleaned.csv', header = False)\n"
   ]
  },
  {
   "cell_type": "markdown",
   "metadata": {},
   "source": [
    "header = False to avoid thw WARNING MESSAGE: The signature of `Series.to_csv` was aligned to that of `DataFrame.to_csv`, and argument 'header' will change its default value from False to True: please pass an explicit value to suppress this warning."
   ]
  },
  {
   "cell_type": "markdown",
   "metadata": {},
   "source": [
    "+ **str.extract** function to extract strings\n",
    "+ **df3** new dataFreme create\n",
    "+ **(\\S\\d+.\\d+), (\\d+.\\d+)** extructure to extract\n",
    "+ **\\S** character(in this case '-')\n",
    "+ **\\d+** one or more integer\n",
    "+ **.** separating integer and decimals\n",
    "+ **\\d*** one or more integer(in this case are decimal part)\n",
    "+ **astype('float')** converting in float\n"
   ]
  },
  {
   "cell_type": "code",
   "execution_count": 9,
   "metadata": {},
   "outputs": [],
   "source": [
    "df3 = df2.str.extract('(\\S\\d+.\\d+), (\\d+.\\d+)').astype('float')"
   ]
  },
  {
   "cell_type": "code",
   "execution_count": 10,
   "metadata": {},
   "outputs": [],
   "source": [
    "df4 = df3.rename(columns={0: \"West\", 1 : \"North\"})"
   ]
  },
  {
   "cell_type": "code",
   "execution_count": 11,
   "metadata": {},
   "outputs": [
    {
     "data": {
      "text/plain": [
       "Index(['West', 'North'], dtype='object')"
      ]
     },
     "execution_count": 11,
     "metadata": {},
     "output_type": "execute_result"
    }
   ],
   "source": [
    "df4.columns"
   ]
  },
  {
   "cell_type": "code",
   "execution_count": 12,
   "metadata": {},
   "outputs": [],
   "source": [
    "df4.loc[(df4['West']< -123.264451) | (df4['West'] > -123.023551 ), 'Status_coordenates'] = 'incorrect' "
   ]
  },
  {
   "cell_type": "code",
   "execution_count": 13,
   "metadata": {},
   "outputs": [
    {
     "name": "stdout",
     "output_type": "stream",
     "text": [
      "           West      North Status_coordenates\n",
      "0   -123.080314  49.278594                NaN\n",
      "1   -123.125791  49.239631                NaN\n",
      "2   -123.182334  49.266487                NaN\n",
      "3   -123.143062  49.251670                NaN\n",
      "4   -123.173557  49.256587                NaN\n",
      "..          ...        ...                ...\n",
      "189 -123.141369  49.215472                NaN\n",
      "190 -123.144634  49.207790                NaN\n",
      "191 -123.084345  49.216109                NaN\n",
      "192 -123.050392  49.256938                NaN\n",
      "193 -123.140340  49.248848                NaN\n",
      "\n",
      "[194 rows x 3 columns]\n"
     ]
    }
   ],
   "source": [
    "print(df4)"
   ]
  },
  {
   "cell_type": "code",
   "execution_count": 14,
   "metadata": {},
   "outputs": [
    {
     "data": {
      "text/html": [
       "<div>\n",
       "<style scoped>\n",
       "    .dataframe tbody tr th:only-of-type {\n",
       "        vertical-align: middle;\n",
       "    }\n",
       "\n",
       "    .dataframe tbody tr th {\n",
       "        vertical-align: top;\n",
       "    }\n",
       "\n",
       "    .dataframe thead th {\n",
       "        text-align: right;\n",
       "    }\n",
       "</style>\n",
       "<table border=\"1\" class=\"dataframe\">\n",
       "  <thead>\n",
       "    <tr style=\"text-align: right;\">\n",
       "      <th></th>\n",
       "      <th>West</th>\n",
       "      <th>North</th>\n",
       "      <th>Status_coordenates</th>\n",
       "    </tr>\n",
       "  </thead>\n",
       "  <tbody>\n",
       "  </tbody>\n",
       "</table>\n",
       "</div>"
      ],
      "text/plain": [
       "Empty DataFrame\n",
       "Columns: [West, North, Status_coordenates]\n",
       "Index: []"
      ]
     },
     "execution_count": 14,
     "metadata": {},
     "output_type": "execute_result"
    }
   ],
   "source": [
    "df4.loc[df4['Status_coordenates'] == 'incorrect']"
   ]
  },
  {
   "cell_type": "markdown",
   "metadata": {},
   "source": [
    "All coordinate values of the data set are within the coordinate values in Vancouver."
   ]
  }
 ],
 "metadata": {
  "kernelspec": {
   "display_name": "Python 3",
   "language": "python",
   "name": "python3"
  },
  "language_info": {
   "codemirror_mode": {
    "name": "ipython",
    "version": 3
   },
   "file_extension": ".py",
   "mimetype": "text/x-python",
   "name": "python",
   "nbconvert_exporter": "python",
   "pygments_lexer": "ipython3",
   "version": "3.7.4"
  }
 },
 "nbformat": 4,
 "nbformat_minor": 4
}
